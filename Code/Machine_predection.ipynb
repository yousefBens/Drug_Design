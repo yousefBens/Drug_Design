{
  "nbformat": 4,
  "nbformat_minor": 0,
  "metadata": {
    "colab": {
      "provenance": []
    },
    "kernelspec": {
      "name": "python3",
      "display_name": "Python 3"
    },
    "language_info": {
      "name": "python"
    }
  },
  "cells": [
    {
      "cell_type": "code",
      "execution_count": null,
      "metadata": {
        "id": "5HW-KHVBZG9t"
      },
      "outputs": [],
      "source": []
    },
    {
      "cell_type": "code",
      "execution_count": null,
      "metadata": {
        "id": "jqka0od25EIt"
      },
      "outputs": [],
      "source": []
    },
    {
      "cell_type": "code",
      "execution_count": 1,
      "metadata": {
        "id": "Coza6XMqt8nj"
      },
      "outputs": [],
      "source": [
        "import pandas as pd\n",
        "import seaborn as sns\n",
        "from sklearn.model_selection import train_test_split\n",
        "from sklearn.ensemble import RandomForestRegressor"
      ]
    },
    {
      "cell_type": "code",
      "source": [
        "df = pd.read_csv('/content/discriptors_filtred_class_pIC50.csv')"
      ],
      "metadata": {
        "id": "D1AHGsk2xCdr"
      },
      "execution_count": 80,
      "outputs": []
    },
    {
      "cell_type": "code",
      "source": [
        "X = df.drop('pIC50', axis=1)\n",
        "X = X.drop('bioactivity_class', axis=1)\n",
        "X"
      ],
      "metadata": {
        "id": "cOhc50THxIOX",
        "colab": {
          "base_uri": "https://localhost:8080/",
          "height": 488
        },
        "outputId": "85fee25c-2756-4269-ffd2-7f6b370979c4"
      },
      "execution_count": 81,
      "outputs": [
        {
          "output_type": "execute_result",
          "data": {
            "text/plain": [
              "      PubchemFP0  PubchemFP1  PubchemFP2  PubchemFP3  PubchemFP4  PubchemFP5  \\\n",
              "0              1           1           1           0           0           0   \n",
              "1              1           1           1           0           0           0   \n",
              "2              1           1           0           0           0           0   \n",
              "3              1           1           0           0           0           0   \n",
              "4              1           1           1           0           0           0   \n",
              "...          ...         ...         ...         ...         ...         ...   \n",
              "3618           1           1           1           0           0           0   \n",
              "3619           1           1           1           0           0           0   \n",
              "3620           1           1           1           0           0           0   \n",
              "3621           1           1           1           1           0           0   \n",
              "3622           1           1           1           0           0           0   \n",
              "\n",
              "      PubchemFP6  PubchemFP7  PubchemFP8  PubchemFP9  ...  PubchemFP871  \\\n",
              "0              0           0           0           1  ...             0   \n",
              "1              0           0           0           1  ...             0   \n",
              "2              0           0           0           1  ...             0   \n",
              "3              0           0           0           1  ...             0   \n",
              "4              0           0           0           1  ...             0   \n",
              "...          ...         ...         ...         ...  ...           ...   \n",
              "3618           0           0           0           1  ...             0   \n",
              "3619           0           0           0           1  ...             0   \n",
              "3620           0           0           0           1  ...             0   \n",
              "3621           0           0           0           1  ...             0   \n",
              "3622           0           0           0           1  ...             0   \n",
              "\n",
              "      PubchemFP872  PubchemFP873  PubchemFP874  PubchemFP875  PubchemFP876  \\\n",
              "0                0             0             0             0             0   \n",
              "1                0             0             0             0             0   \n",
              "2                0             0             0             0             0   \n",
              "3                0             0             0             0             0   \n",
              "4                0             0             0             0             0   \n",
              "...            ...           ...           ...           ...           ...   \n",
              "3618             0             0             0             0             0   \n",
              "3619             0             0             0             0             0   \n",
              "3620             0             0             0             0             0   \n",
              "3621             0             0             0             0             0   \n",
              "3622             0             0             0             0             0   \n",
              "\n",
              "      PubchemFP877  PubchemFP878  PubchemFP879  PubchemFP880  \n",
              "0                0             0             0             0  \n",
              "1                0             0             0             0  \n",
              "2                0             0             0             0  \n",
              "3                0             0             0             0  \n",
              "4                0             0             0             0  \n",
              "...            ...           ...           ...           ...  \n",
              "3618             0             0             0             0  \n",
              "3619             0             0             0             0  \n",
              "3620             0             0             0             0  \n",
              "3621             0             0             0             0  \n",
              "3622             0             0             0             0  \n",
              "\n",
              "[3623 rows x 881 columns]"
            ],
            "text/html": [
              "\n",
              "  <div id=\"df-394a5755-f99f-48c6-82fe-2a9b58928f1b\">\n",
              "    <div class=\"colab-df-container\">\n",
              "      <div>\n",
              "<style scoped>\n",
              "    .dataframe tbody tr th:only-of-type {\n",
              "        vertical-align: middle;\n",
              "    }\n",
              "\n",
              "    .dataframe tbody tr th {\n",
              "        vertical-align: top;\n",
              "    }\n",
              "\n",
              "    .dataframe thead th {\n",
              "        text-align: right;\n",
              "    }\n",
              "</style>\n",
              "<table border=\"1\" class=\"dataframe\">\n",
              "  <thead>\n",
              "    <tr style=\"text-align: right;\">\n",
              "      <th></th>\n",
              "      <th>PubchemFP0</th>\n",
              "      <th>PubchemFP1</th>\n",
              "      <th>PubchemFP2</th>\n",
              "      <th>PubchemFP3</th>\n",
              "      <th>PubchemFP4</th>\n",
              "      <th>PubchemFP5</th>\n",
              "      <th>PubchemFP6</th>\n",
              "      <th>PubchemFP7</th>\n",
              "      <th>PubchemFP8</th>\n",
              "      <th>PubchemFP9</th>\n",
              "      <th>...</th>\n",
              "      <th>PubchemFP871</th>\n",
              "      <th>PubchemFP872</th>\n",
              "      <th>PubchemFP873</th>\n",
              "      <th>PubchemFP874</th>\n",
              "      <th>PubchemFP875</th>\n",
              "      <th>PubchemFP876</th>\n",
              "      <th>PubchemFP877</th>\n",
              "      <th>PubchemFP878</th>\n",
              "      <th>PubchemFP879</th>\n",
              "      <th>PubchemFP880</th>\n",
              "    </tr>\n",
              "  </thead>\n",
              "  <tbody>\n",
              "    <tr>\n",
              "      <th>0</th>\n",
              "      <td>1</td>\n",
              "      <td>1</td>\n",
              "      <td>1</td>\n",
              "      <td>0</td>\n",
              "      <td>0</td>\n",
              "      <td>0</td>\n",
              "      <td>0</td>\n",
              "      <td>0</td>\n",
              "      <td>0</td>\n",
              "      <td>1</td>\n",
              "      <td>...</td>\n",
              "      <td>0</td>\n",
              "      <td>0</td>\n",
              "      <td>0</td>\n",
              "      <td>0</td>\n",
              "      <td>0</td>\n",
              "      <td>0</td>\n",
              "      <td>0</td>\n",
              "      <td>0</td>\n",
              "      <td>0</td>\n",
              "      <td>0</td>\n",
              "    </tr>\n",
              "    <tr>\n",
              "      <th>1</th>\n",
              "      <td>1</td>\n",
              "      <td>1</td>\n",
              "      <td>1</td>\n",
              "      <td>0</td>\n",
              "      <td>0</td>\n",
              "      <td>0</td>\n",
              "      <td>0</td>\n",
              "      <td>0</td>\n",
              "      <td>0</td>\n",
              "      <td>1</td>\n",
              "      <td>...</td>\n",
              "      <td>0</td>\n",
              "      <td>0</td>\n",
              "      <td>0</td>\n",
              "      <td>0</td>\n",
              "      <td>0</td>\n",
              "      <td>0</td>\n",
              "      <td>0</td>\n",
              "      <td>0</td>\n",
              "      <td>0</td>\n",
              "      <td>0</td>\n",
              "    </tr>\n",
              "    <tr>\n",
              "      <th>2</th>\n",
              "      <td>1</td>\n",
              "      <td>1</td>\n",
              "      <td>0</td>\n",
              "      <td>0</td>\n",
              "      <td>0</td>\n",
              "      <td>0</td>\n",
              "      <td>0</td>\n",
              "      <td>0</td>\n",
              "      <td>0</td>\n",
              "      <td>1</td>\n",
              "      <td>...</td>\n",
              "      <td>0</td>\n",
              "      <td>0</td>\n",
              "      <td>0</td>\n",
              "      <td>0</td>\n",
              "      <td>0</td>\n",
              "      <td>0</td>\n",
              "      <td>0</td>\n",
              "      <td>0</td>\n",
              "      <td>0</td>\n",
              "      <td>0</td>\n",
              "    </tr>\n",
              "    <tr>\n",
              "      <th>3</th>\n",
              "      <td>1</td>\n",
              "      <td>1</td>\n",
              "      <td>0</td>\n",
              "      <td>0</td>\n",
              "      <td>0</td>\n",
              "      <td>0</td>\n",
              "      <td>0</td>\n",
              "      <td>0</td>\n",
              "      <td>0</td>\n",
              "      <td>1</td>\n",
              "      <td>...</td>\n",
              "      <td>0</td>\n",
              "      <td>0</td>\n",
              "      <td>0</td>\n",
              "      <td>0</td>\n",
              "      <td>0</td>\n",
              "      <td>0</td>\n",
              "      <td>0</td>\n",
              "      <td>0</td>\n",
              "      <td>0</td>\n",
              "      <td>0</td>\n",
              "    </tr>\n",
              "    <tr>\n",
              "      <th>4</th>\n",
              "      <td>1</td>\n",
              "      <td>1</td>\n",
              "      <td>1</td>\n",
              "      <td>0</td>\n",
              "      <td>0</td>\n",
              "      <td>0</td>\n",
              "      <td>0</td>\n",
              "      <td>0</td>\n",
              "      <td>0</td>\n",
              "      <td>1</td>\n",
              "      <td>...</td>\n",
              "      <td>0</td>\n",
              "      <td>0</td>\n",
              "      <td>0</td>\n",
              "      <td>0</td>\n",
              "      <td>0</td>\n",
              "      <td>0</td>\n",
              "      <td>0</td>\n",
              "      <td>0</td>\n",
              "      <td>0</td>\n",
              "      <td>0</td>\n",
              "    </tr>\n",
              "    <tr>\n",
              "      <th>...</th>\n",
              "      <td>...</td>\n",
              "      <td>...</td>\n",
              "      <td>...</td>\n",
              "      <td>...</td>\n",
              "      <td>...</td>\n",
              "      <td>...</td>\n",
              "      <td>...</td>\n",
              "      <td>...</td>\n",
              "      <td>...</td>\n",
              "      <td>...</td>\n",
              "      <td>...</td>\n",
              "      <td>...</td>\n",
              "      <td>...</td>\n",
              "      <td>...</td>\n",
              "      <td>...</td>\n",
              "      <td>...</td>\n",
              "      <td>...</td>\n",
              "      <td>...</td>\n",
              "      <td>...</td>\n",
              "      <td>...</td>\n",
              "      <td>...</td>\n",
              "    </tr>\n",
              "    <tr>\n",
              "      <th>3618</th>\n",
              "      <td>1</td>\n",
              "      <td>1</td>\n",
              "      <td>1</td>\n",
              "      <td>0</td>\n",
              "      <td>0</td>\n",
              "      <td>0</td>\n",
              "      <td>0</td>\n",
              "      <td>0</td>\n",
              "      <td>0</td>\n",
              "      <td>1</td>\n",
              "      <td>...</td>\n",
              "      <td>0</td>\n",
              "      <td>0</td>\n",
              "      <td>0</td>\n",
              "      <td>0</td>\n",
              "      <td>0</td>\n",
              "      <td>0</td>\n",
              "      <td>0</td>\n",
              "      <td>0</td>\n",
              "      <td>0</td>\n",
              "      <td>0</td>\n",
              "    </tr>\n",
              "    <tr>\n",
              "      <th>3619</th>\n",
              "      <td>1</td>\n",
              "      <td>1</td>\n",
              "      <td>1</td>\n",
              "      <td>0</td>\n",
              "      <td>0</td>\n",
              "      <td>0</td>\n",
              "      <td>0</td>\n",
              "      <td>0</td>\n",
              "      <td>0</td>\n",
              "      <td>1</td>\n",
              "      <td>...</td>\n",
              "      <td>0</td>\n",
              "      <td>0</td>\n",
              "      <td>0</td>\n",
              "      <td>0</td>\n",
              "      <td>0</td>\n",
              "      <td>0</td>\n",
              "      <td>0</td>\n",
              "      <td>0</td>\n",
              "      <td>0</td>\n",
              "      <td>0</td>\n",
              "    </tr>\n",
              "    <tr>\n",
              "      <th>3620</th>\n",
              "      <td>1</td>\n",
              "      <td>1</td>\n",
              "      <td>1</td>\n",
              "      <td>0</td>\n",
              "      <td>0</td>\n",
              "      <td>0</td>\n",
              "      <td>0</td>\n",
              "      <td>0</td>\n",
              "      <td>0</td>\n",
              "      <td>1</td>\n",
              "      <td>...</td>\n",
              "      <td>0</td>\n",
              "      <td>0</td>\n",
              "      <td>0</td>\n",
              "      <td>0</td>\n",
              "      <td>0</td>\n",
              "      <td>0</td>\n",
              "      <td>0</td>\n",
              "      <td>0</td>\n",
              "      <td>0</td>\n",
              "      <td>0</td>\n",
              "    </tr>\n",
              "    <tr>\n",
              "      <th>3621</th>\n",
              "      <td>1</td>\n",
              "      <td>1</td>\n",
              "      <td>1</td>\n",
              "      <td>1</td>\n",
              "      <td>0</td>\n",
              "      <td>0</td>\n",
              "      <td>0</td>\n",
              "      <td>0</td>\n",
              "      <td>0</td>\n",
              "      <td>1</td>\n",
              "      <td>...</td>\n",
              "      <td>0</td>\n",
              "      <td>0</td>\n",
              "      <td>0</td>\n",
              "      <td>0</td>\n",
              "      <td>0</td>\n",
              "      <td>0</td>\n",
              "      <td>0</td>\n",
              "      <td>0</td>\n",
              "      <td>0</td>\n",
              "      <td>0</td>\n",
              "    </tr>\n",
              "    <tr>\n",
              "      <th>3622</th>\n",
              "      <td>1</td>\n",
              "      <td>1</td>\n",
              "      <td>1</td>\n",
              "      <td>0</td>\n",
              "      <td>0</td>\n",
              "      <td>0</td>\n",
              "      <td>0</td>\n",
              "      <td>0</td>\n",
              "      <td>0</td>\n",
              "      <td>1</td>\n",
              "      <td>...</td>\n",
              "      <td>0</td>\n",
              "      <td>0</td>\n",
              "      <td>0</td>\n",
              "      <td>0</td>\n",
              "      <td>0</td>\n",
              "      <td>0</td>\n",
              "      <td>0</td>\n",
              "      <td>0</td>\n",
              "      <td>0</td>\n",
              "      <td>0</td>\n",
              "    </tr>\n",
              "  </tbody>\n",
              "</table>\n",
              "<p>3623 rows × 881 columns</p>\n",
              "</div>\n",
              "      <button class=\"colab-df-convert\" onclick=\"convertToInteractive('df-394a5755-f99f-48c6-82fe-2a9b58928f1b')\"\n",
              "              title=\"Convert this dataframe to an interactive table.\"\n",
              "              style=\"display:none;\">\n",
              "        \n",
              "  <svg xmlns=\"http://www.w3.org/2000/svg\" height=\"24px\"viewBox=\"0 0 24 24\"\n",
              "       width=\"24px\">\n",
              "    <path d=\"M0 0h24v24H0V0z\" fill=\"none\"/>\n",
              "    <path d=\"M18.56 5.44l.94 2.06.94-2.06 2.06-.94-2.06-.94-.94-2.06-.94 2.06-2.06.94zm-11 1L8.5 8.5l.94-2.06 2.06-.94-2.06-.94L8.5 2.5l-.94 2.06-2.06.94zm10 10l.94 2.06.94-2.06 2.06-.94-2.06-.94-.94-2.06-.94 2.06-2.06.94z\"/><path d=\"M17.41 7.96l-1.37-1.37c-.4-.4-.92-.59-1.43-.59-.52 0-1.04.2-1.43.59L10.3 9.45l-7.72 7.72c-.78.78-.78 2.05 0 2.83L4 21.41c.39.39.9.59 1.41.59.51 0 1.02-.2 1.41-.59l7.78-7.78 2.81-2.81c.8-.78.8-2.07 0-2.86zM5.41 20L4 18.59l7.72-7.72 1.47 1.35L5.41 20z\"/>\n",
              "  </svg>\n",
              "      </button>\n",
              "      \n",
              "  <style>\n",
              "    .colab-df-container {\n",
              "      display:flex;\n",
              "      flex-wrap:wrap;\n",
              "      gap: 12px;\n",
              "    }\n",
              "\n",
              "    .colab-df-convert {\n",
              "      background-color: #E8F0FE;\n",
              "      border: none;\n",
              "      border-radius: 50%;\n",
              "      cursor: pointer;\n",
              "      display: none;\n",
              "      fill: #1967D2;\n",
              "      height: 32px;\n",
              "      padding: 0 0 0 0;\n",
              "      width: 32px;\n",
              "    }\n",
              "\n",
              "    .colab-df-convert:hover {\n",
              "      background-color: #E2EBFA;\n",
              "      box-shadow: 0px 1px 2px rgba(60, 64, 67, 0.3), 0px 1px 3px 1px rgba(60, 64, 67, 0.15);\n",
              "      fill: #174EA6;\n",
              "    }\n",
              "\n",
              "    [theme=dark] .colab-df-convert {\n",
              "      background-color: #3B4455;\n",
              "      fill: #D2E3FC;\n",
              "    }\n",
              "\n",
              "    [theme=dark] .colab-df-convert:hover {\n",
              "      background-color: #434B5C;\n",
              "      box-shadow: 0px 1px 3px 1px rgba(0, 0, 0, 0.15);\n",
              "      filter: drop-shadow(0px 1px 2px rgba(0, 0, 0, 0.3));\n",
              "      fill: #FFFFFF;\n",
              "    }\n",
              "  </style>\n",
              "\n",
              "      <script>\n",
              "        const buttonEl =\n",
              "          document.querySelector('#df-394a5755-f99f-48c6-82fe-2a9b58928f1b button.colab-df-convert');\n",
              "        buttonEl.style.display =\n",
              "          google.colab.kernel.accessAllowed ? 'block' : 'none';\n",
              "\n",
              "        async function convertToInteractive(key) {\n",
              "          const element = document.querySelector('#df-394a5755-f99f-48c6-82fe-2a9b58928f1b');\n",
              "          const dataTable =\n",
              "            await google.colab.kernel.invokeFunction('convertToInteractive',\n",
              "                                                     [key], {});\n",
              "          if (!dataTable) return;\n",
              "\n",
              "          const docLinkHtml = 'Like what you see? Visit the ' +\n",
              "            '<a target=\"_blank\" href=https://colab.research.google.com/notebooks/data_table.ipynb>data table notebook</a>'\n",
              "            + ' to learn more about interactive tables.';\n",
              "          element.innerHTML = '';\n",
              "          dataTable['output_type'] = 'display_data';\n",
              "          await google.colab.output.renderOutput(dataTable, element);\n",
              "          const docLink = document.createElement('div');\n",
              "          docLink.innerHTML = docLinkHtml;\n",
              "          element.appendChild(docLink);\n",
              "        }\n",
              "      </script>\n",
              "    </div>\n",
              "  </div>\n",
              "  "
            ]
          },
          "metadata": {},
          "execution_count": 81
        }
      ]
    },
    {
      "cell_type": "code",
      "source": [
        "train = df.drop('bioactivity_class', axis=1)\n",
        "train"
      ],
      "metadata": {
        "colab": {
          "base_uri": "https://localhost:8080/",
          "height": 488
        },
        "id": "RfGQjpyi5Api",
        "outputId": "1895962d-fe80-46c1-9863-e75df30cf60f"
      },
      "execution_count": 150,
      "outputs": [
        {
          "output_type": "execute_result",
          "data": {
            "text/plain": [
              "      PubchemFP0  PubchemFP1  PubchemFP2  PubchemFP3  PubchemFP4  PubchemFP5  \\\n",
              "0              1           1           1           0           0           0   \n",
              "1              1           1           1           0           0           0   \n",
              "2              1           1           0           0           0           0   \n",
              "3              1           1           0           0           0           0   \n",
              "4              1           1           1           0           0           0   \n",
              "...          ...         ...         ...         ...         ...         ...   \n",
              "3618           1           1           1           0           0           0   \n",
              "3619           1           1           1           0           0           0   \n",
              "3620           1           1           1           0           0           0   \n",
              "3621           1           1           1           1           0           0   \n",
              "3622           1           1           1           0           0           0   \n",
              "\n",
              "      PubchemFP6  PubchemFP7  PubchemFP8  PubchemFP9  ...  PubchemFP872  \\\n",
              "0              0           0           0           1  ...             0   \n",
              "1              0           0           0           1  ...             0   \n",
              "2              0           0           0           1  ...             0   \n",
              "3              0           0           0           1  ...             0   \n",
              "4              0           0           0           1  ...             0   \n",
              "...          ...         ...         ...         ...  ...           ...   \n",
              "3618           0           0           0           1  ...             0   \n",
              "3619           0           0           0           1  ...             0   \n",
              "3620           0           0           0           1  ...             0   \n",
              "3621           0           0           0           1  ...             0   \n",
              "3622           0           0           0           1  ...             0   \n",
              "\n",
              "      PubchemFP873  PubchemFP874  PubchemFP875  PubchemFP876  PubchemFP877  \\\n",
              "0                0             0             0             0             0   \n",
              "1                0             0             0             0             0   \n",
              "2                0             0             0             0             0   \n",
              "3                0             0             0             0             0   \n",
              "4                0             0             0             0             0   \n",
              "...            ...           ...           ...           ...           ...   \n",
              "3618             0             0             0             0             0   \n",
              "3619             0             0             0             0             0   \n",
              "3620             0             0             0             0             0   \n",
              "3621             0             0             0             0             0   \n",
              "3622             0             0             0             0             0   \n",
              "\n",
              "      PubchemFP878  PubchemFP879  PubchemFP880     pIC50  \n",
              "0                0             0             0  6.124939  \n",
              "1                0             0             0  7.000000  \n",
              "2                0             0             0  6.522879  \n",
              "3                0             0             0  6.096910  \n",
              "4                0             0             0  5.619789  \n",
              "...            ...           ...           ...       ...  \n",
              "3618             0             0             0  6.446117  \n",
              "3619             0             0             0  6.643974  \n",
              "3620             0             0             0  8.408935  \n",
              "3621             0             0             0  5.000000  \n",
              "3622             0             0             0  8.769551  \n",
              "\n",
              "[3623 rows x 882 columns]"
            ],
            "text/html": [
              "\n",
              "  <div id=\"df-883bf70c-72d5-4ac7-be00-2b43b598d39a\">\n",
              "    <div class=\"colab-df-container\">\n",
              "      <div>\n",
              "<style scoped>\n",
              "    .dataframe tbody tr th:only-of-type {\n",
              "        vertical-align: middle;\n",
              "    }\n",
              "\n",
              "    .dataframe tbody tr th {\n",
              "        vertical-align: top;\n",
              "    }\n",
              "\n",
              "    .dataframe thead th {\n",
              "        text-align: right;\n",
              "    }\n",
              "</style>\n",
              "<table border=\"1\" class=\"dataframe\">\n",
              "  <thead>\n",
              "    <tr style=\"text-align: right;\">\n",
              "      <th></th>\n",
              "      <th>PubchemFP0</th>\n",
              "      <th>PubchemFP1</th>\n",
              "      <th>PubchemFP2</th>\n",
              "      <th>PubchemFP3</th>\n",
              "      <th>PubchemFP4</th>\n",
              "      <th>PubchemFP5</th>\n",
              "      <th>PubchemFP6</th>\n",
              "      <th>PubchemFP7</th>\n",
              "      <th>PubchemFP8</th>\n",
              "      <th>PubchemFP9</th>\n",
              "      <th>...</th>\n",
              "      <th>PubchemFP872</th>\n",
              "      <th>PubchemFP873</th>\n",
              "      <th>PubchemFP874</th>\n",
              "      <th>PubchemFP875</th>\n",
              "      <th>PubchemFP876</th>\n",
              "      <th>PubchemFP877</th>\n",
              "      <th>PubchemFP878</th>\n",
              "      <th>PubchemFP879</th>\n",
              "      <th>PubchemFP880</th>\n",
              "      <th>pIC50</th>\n",
              "    </tr>\n",
              "  </thead>\n",
              "  <tbody>\n",
              "    <tr>\n",
              "      <th>0</th>\n",
              "      <td>1</td>\n",
              "      <td>1</td>\n",
              "      <td>1</td>\n",
              "      <td>0</td>\n",
              "      <td>0</td>\n",
              "      <td>0</td>\n",
              "      <td>0</td>\n",
              "      <td>0</td>\n",
              "      <td>0</td>\n",
              "      <td>1</td>\n",
              "      <td>...</td>\n",
              "      <td>0</td>\n",
              "      <td>0</td>\n",
              "      <td>0</td>\n",
              "      <td>0</td>\n",
              "      <td>0</td>\n",
              "      <td>0</td>\n",
              "      <td>0</td>\n",
              "      <td>0</td>\n",
              "      <td>0</td>\n",
              "      <td>6.124939</td>\n",
              "    </tr>\n",
              "    <tr>\n",
              "      <th>1</th>\n",
              "      <td>1</td>\n",
              "      <td>1</td>\n",
              "      <td>1</td>\n",
              "      <td>0</td>\n",
              "      <td>0</td>\n",
              "      <td>0</td>\n",
              "      <td>0</td>\n",
              "      <td>0</td>\n",
              "      <td>0</td>\n",
              "      <td>1</td>\n",
              "      <td>...</td>\n",
              "      <td>0</td>\n",
              "      <td>0</td>\n",
              "      <td>0</td>\n",
              "      <td>0</td>\n",
              "      <td>0</td>\n",
              "      <td>0</td>\n",
              "      <td>0</td>\n",
              "      <td>0</td>\n",
              "      <td>0</td>\n",
              "      <td>7.000000</td>\n",
              "    </tr>\n",
              "    <tr>\n",
              "      <th>2</th>\n",
              "      <td>1</td>\n",
              "      <td>1</td>\n",
              "      <td>0</td>\n",
              "      <td>0</td>\n",
              "      <td>0</td>\n",
              "      <td>0</td>\n",
              "      <td>0</td>\n",
              "      <td>0</td>\n",
              "      <td>0</td>\n",
              "      <td>1</td>\n",
              "      <td>...</td>\n",
              "      <td>0</td>\n",
              "      <td>0</td>\n",
              "      <td>0</td>\n",
              "      <td>0</td>\n",
              "      <td>0</td>\n",
              "      <td>0</td>\n",
              "      <td>0</td>\n",
              "      <td>0</td>\n",
              "      <td>0</td>\n",
              "      <td>6.522879</td>\n",
              "    </tr>\n",
              "    <tr>\n",
              "      <th>3</th>\n",
              "      <td>1</td>\n",
              "      <td>1</td>\n",
              "      <td>0</td>\n",
              "      <td>0</td>\n",
              "      <td>0</td>\n",
              "      <td>0</td>\n",
              "      <td>0</td>\n",
              "      <td>0</td>\n",
              "      <td>0</td>\n",
              "      <td>1</td>\n",
              "      <td>...</td>\n",
              "      <td>0</td>\n",
              "      <td>0</td>\n",
              "      <td>0</td>\n",
              "      <td>0</td>\n",
              "      <td>0</td>\n",
              "      <td>0</td>\n",
              "      <td>0</td>\n",
              "      <td>0</td>\n",
              "      <td>0</td>\n",
              "      <td>6.096910</td>\n",
              "    </tr>\n",
              "    <tr>\n",
              "      <th>4</th>\n",
              "      <td>1</td>\n",
              "      <td>1</td>\n",
              "      <td>1</td>\n",
              "      <td>0</td>\n",
              "      <td>0</td>\n",
              "      <td>0</td>\n",
              "      <td>0</td>\n",
              "      <td>0</td>\n",
              "      <td>0</td>\n",
              "      <td>1</td>\n",
              "      <td>...</td>\n",
              "      <td>0</td>\n",
              "      <td>0</td>\n",
              "      <td>0</td>\n",
              "      <td>0</td>\n",
              "      <td>0</td>\n",
              "      <td>0</td>\n",
              "      <td>0</td>\n",
              "      <td>0</td>\n",
              "      <td>0</td>\n",
              "      <td>5.619789</td>\n",
              "    </tr>\n",
              "    <tr>\n",
              "      <th>...</th>\n",
              "      <td>...</td>\n",
              "      <td>...</td>\n",
              "      <td>...</td>\n",
              "      <td>...</td>\n",
              "      <td>...</td>\n",
              "      <td>...</td>\n",
              "      <td>...</td>\n",
              "      <td>...</td>\n",
              "      <td>...</td>\n",
              "      <td>...</td>\n",
              "      <td>...</td>\n",
              "      <td>...</td>\n",
              "      <td>...</td>\n",
              "      <td>...</td>\n",
              "      <td>...</td>\n",
              "      <td>...</td>\n",
              "      <td>...</td>\n",
              "      <td>...</td>\n",
              "      <td>...</td>\n",
              "      <td>...</td>\n",
              "      <td>...</td>\n",
              "    </tr>\n",
              "    <tr>\n",
              "      <th>3618</th>\n",
              "      <td>1</td>\n",
              "      <td>1</td>\n",
              "      <td>1</td>\n",
              "      <td>0</td>\n",
              "      <td>0</td>\n",
              "      <td>0</td>\n",
              "      <td>0</td>\n",
              "      <td>0</td>\n",
              "      <td>0</td>\n",
              "      <td>1</td>\n",
              "      <td>...</td>\n",
              "      <td>0</td>\n",
              "      <td>0</td>\n",
              "      <td>0</td>\n",
              "      <td>0</td>\n",
              "      <td>0</td>\n",
              "      <td>0</td>\n",
              "      <td>0</td>\n",
              "      <td>0</td>\n",
              "      <td>0</td>\n",
              "      <td>6.446117</td>\n",
              "    </tr>\n",
              "    <tr>\n",
              "      <th>3619</th>\n",
              "      <td>1</td>\n",
              "      <td>1</td>\n",
              "      <td>1</td>\n",
              "      <td>0</td>\n",
              "      <td>0</td>\n",
              "      <td>0</td>\n",
              "      <td>0</td>\n",
              "      <td>0</td>\n",
              "      <td>0</td>\n",
              "      <td>1</td>\n",
              "      <td>...</td>\n",
              "      <td>0</td>\n",
              "      <td>0</td>\n",
              "      <td>0</td>\n",
              "      <td>0</td>\n",
              "      <td>0</td>\n",
              "      <td>0</td>\n",
              "      <td>0</td>\n",
              "      <td>0</td>\n",
              "      <td>0</td>\n",
              "      <td>6.643974</td>\n",
              "    </tr>\n",
              "    <tr>\n",
              "      <th>3620</th>\n",
              "      <td>1</td>\n",
              "      <td>1</td>\n",
              "      <td>1</td>\n",
              "      <td>0</td>\n",
              "      <td>0</td>\n",
              "      <td>0</td>\n",
              "      <td>0</td>\n",
              "      <td>0</td>\n",
              "      <td>0</td>\n",
              "      <td>1</td>\n",
              "      <td>...</td>\n",
              "      <td>0</td>\n",
              "      <td>0</td>\n",
              "      <td>0</td>\n",
              "      <td>0</td>\n",
              "      <td>0</td>\n",
              "      <td>0</td>\n",
              "      <td>0</td>\n",
              "      <td>0</td>\n",
              "      <td>0</td>\n",
              "      <td>8.408935</td>\n",
              "    </tr>\n",
              "    <tr>\n",
              "      <th>3621</th>\n",
              "      <td>1</td>\n",
              "      <td>1</td>\n",
              "      <td>1</td>\n",
              "      <td>1</td>\n",
              "      <td>0</td>\n",
              "      <td>0</td>\n",
              "      <td>0</td>\n",
              "      <td>0</td>\n",
              "      <td>0</td>\n",
              "      <td>1</td>\n",
              "      <td>...</td>\n",
              "      <td>0</td>\n",
              "      <td>0</td>\n",
              "      <td>0</td>\n",
              "      <td>0</td>\n",
              "      <td>0</td>\n",
              "      <td>0</td>\n",
              "      <td>0</td>\n",
              "      <td>0</td>\n",
              "      <td>0</td>\n",
              "      <td>5.000000</td>\n",
              "    </tr>\n",
              "    <tr>\n",
              "      <th>3622</th>\n",
              "      <td>1</td>\n",
              "      <td>1</td>\n",
              "      <td>1</td>\n",
              "      <td>0</td>\n",
              "      <td>0</td>\n",
              "      <td>0</td>\n",
              "      <td>0</td>\n",
              "      <td>0</td>\n",
              "      <td>0</td>\n",
              "      <td>1</td>\n",
              "      <td>...</td>\n",
              "      <td>0</td>\n",
              "      <td>0</td>\n",
              "      <td>0</td>\n",
              "      <td>0</td>\n",
              "      <td>0</td>\n",
              "      <td>0</td>\n",
              "      <td>0</td>\n",
              "      <td>0</td>\n",
              "      <td>0</td>\n",
              "      <td>8.769551</td>\n",
              "    </tr>\n",
              "  </tbody>\n",
              "</table>\n",
              "<p>3623 rows × 882 columns</p>\n",
              "</div>\n",
              "      <button class=\"colab-df-convert\" onclick=\"convertToInteractive('df-883bf70c-72d5-4ac7-be00-2b43b598d39a')\"\n",
              "              title=\"Convert this dataframe to an interactive table.\"\n",
              "              style=\"display:none;\">\n",
              "        \n",
              "  <svg xmlns=\"http://www.w3.org/2000/svg\" height=\"24px\"viewBox=\"0 0 24 24\"\n",
              "       width=\"24px\">\n",
              "    <path d=\"M0 0h24v24H0V0z\" fill=\"none\"/>\n",
              "    <path d=\"M18.56 5.44l.94 2.06.94-2.06 2.06-.94-2.06-.94-.94-2.06-.94 2.06-2.06.94zm-11 1L8.5 8.5l.94-2.06 2.06-.94-2.06-.94L8.5 2.5l-.94 2.06-2.06.94zm10 10l.94 2.06.94-2.06 2.06-.94-2.06-.94-.94-2.06-.94 2.06-2.06.94z\"/><path d=\"M17.41 7.96l-1.37-1.37c-.4-.4-.92-.59-1.43-.59-.52 0-1.04.2-1.43.59L10.3 9.45l-7.72 7.72c-.78.78-.78 2.05 0 2.83L4 21.41c.39.39.9.59 1.41.59.51 0 1.02-.2 1.41-.59l7.78-7.78 2.81-2.81c.8-.78.8-2.07 0-2.86zM5.41 20L4 18.59l7.72-7.72 1.47 1.35L5.41 20z\"/>\n",
              "  </svg>\n",
              "      </button>\n",
              "      \n",
              "  <style>\n",
              "    .colab-df-container {\n",
              "      display:flex;\n",
              "      flex-wrap:wrap;\n",
              "      gap: 12px;\n",
              "    }\n",
              "\n",
              "    .colab-df-convert {\n",
              "      background-color: #E8F0FE;\n",
              "      border: none;\n",
              "      border-radius: 50%;\n",
              "      cursor: pointer;\n",
              "      display: none;\n",
              "      fill: #1967D2;\n",
              "      height: 32px;\n",
              "      padding: 0 0 0 0;\n",
              "      width: 32px;\n",
              "    }\n",
              "\n",
              "    .colab-df-convert:hover {\n",
              "      background-color: #E2EBFA;\n",
              "      box-shadow: 0px 1px 2px rgba(60, 64, 67, 0.3), 0px 1px 3px 1px rgba(60, 64, 67, 0.15);\n",
              "      fill: #174EA6;\n",
              "    }\n",
              "\n",
              "    [theme=dark] .colab-df-convert {\n",
              "      background-color: #3B4455;\n",
              "      fill: #D2E3FC;\n",
              "    }\n",
              "\n",
              "    [theme=dark] .colab-df-convert:hover {\n",
              "      background-color: #434B5C;\n",
              "      box-shadow: 0px 1px 3px 1px rgba(0, 0, 0, 0.15);\n",
              "      filter: drop-shadow(0px 1px 2px rgba(0, 0, 0, 0.3));\n",
              "      fill: #FFFFFF;\n",
              "    }\n",
              "  </style>\n",
              "\n",
              "      <script>\n",
              "        const buttonEl =\n",
              "          document.querySelector('#df-883bf70c-72d5-4ac7-be00-2b43b598d39a button.colab-df-convert');\n",
              "        buttonEl.style.display =\n",
              "          google.colab.kernel.accessAllowed ? 'block' : 'none';\n",
              "\n",
              "        async function convertToInteractive(key) {\n",
              "          const element = document.querySelector('#df-883bf70c-72d5-4ac7-be00-2b43b598d39a');\n",
              "          const dataTable =\n",
              "            await google.colab.kernel.invokeFunction('convertToInteractive',\n",
              "                                                     [key], {});\n",
              "          if (!dataTable) return;\n",
              "\n",
              "          const docLinkHtml = 'Like what you see? Visit the ' +\n",
              "            '<a target=\"_blank\" href=https://colab.research.google.com/notebooks/data_table.ipynb>data table notebook</a>'\n",
              "            + ' to learn more about interactive tables.';\n",
              "          element.innerHTML = '';\n",
              "          dataTable['output_type'] = 'display_data';\n",
              "          await google.colab.output.renderOutput(dataTable, element);\n",
              "          const docLink = document.createElement('div');\n",
              "          docLink.innerHTML = docLinkHtml;\n",
              "          element.appendChild(docLink);\n",
              "        }\n",
              "      </script>\n",
              "    </div>\n",
              "  </div>\n",
              "  "
            ]
          },
          "metadata": {},
          "execution_count": 150
        }
      ]
    },
    {
      "cell_type": "code",
      "source": [],
      "metadata": {
        "id": "wS6b2acY47_J"
      },
      "execution_count": 82,
      "outputs": []
    },
    {
      "cell_type": "code",
      "source": [
        "Y = df.pIC50\n",
        "Y"
      ],
      "metadata": {
        "id": "lomVaOD4xuy1",
        "colab": {
          "base_uri": "https://localhost:8080/"
        },
        "outputId": "cb103214-0a73-4821-d7b8-13b95ebff9b6"
      },
      "execution_count": 83,
      "outputs": [
        {
          "output_type": "execute_result",
          "data": {
            "text/plain": [
              "0       6.124939\n",
              "1       7.000000\n",
              "2       6.522879\n",
              "3       6.096910\n",
              "4       5.619789\n",
              "          ...   \n",
              "3618    6.446117\n",
              "3619    6.643974\n",
              "3620    8.408935\n",
              "3621    5.000000\n",
              "3622    8.769551\n",
              "Name: pIC50, Length: 3623, dtype: float64"
            ]
          },
          "metadata": {},
          "execution_count": 83
        }
      ]
    },
    {
      "cell_type": "code",
      "source": [
        "X.shape"
      ],
      "metadata": {
        "id": "5QLSxPa-yLxk",
        "colab": {
          "base_uri": "https://localhost:8080/"
        },
        "outputId": "ebf9861b-93a8-4d7b-e0db-0b132247986f"
      },
      "execution_count": 84,
      "outputs": [
        {
          "output_type": "execute_result",
          "data": {
            "text/plain": [
              "(3623, 881)"
            ]
          },
          "metadata": {},
          "execution_count": 84
        }
      ]
    },
    {
      "cell_type": "code",
      "source": [
        "Y.shape"
      ],
      "metadata": {
        "id": "7rAwSxehyQZ7",
        "colab": {
          "base_uri": "https://localhost:8080/"
        },
        "outputId": "6bf31282-1bcc-41d5-977d-6fbaf2bacbea"
      },
      "execution_count": 85,
      "outputs": [
        {
          "output_type": "execute_result",
          "data": {
            "text/plain": [
              "(3623,)"
            ]
          },
          "metadata": {},
          "execution_count": 85
        }
      ]
    },
    {
      "cell_type": "code",
      "source": [
        "import numpy as np"
      ],
      "metadata": {
        "id": "2xmjZrWO0p3c"
      },
      "execution_count": 86,
      "outputs": []
    },
    {
      "cell_type": "code",
      "source": [],
      "metadata": {
        "id": "Dh-zxjNv1B1r"
      },
      "execution_count": 86,
      "outputs": []
    },
    {
      "cell_type": "code",
      "source": [
        "type(Y)"
      ],
      "metadata": {
        "id": "r-ZVi56p1QCz",
        "colab": {
          "base_uri": "https://localhost:8080/"
        },
        "outputId": "df543119-8760-475b-d9a5-7958a89f1c60"
      },
      "execution_count": 87,
      "outputs": [
        {
          "output_type": "execute_result",
          "data": {
            "text/plain": [
              "pandas.core.series.Series"
            ]
          },
          "metadata": {},
          "execution_count": 87
        }
      ]
    },
    {
      "cell_type": "code",
      "source": [],
      "metadata": {
        "id": "GGv8p2Ia1oqH"
      },
      "execution_count": 87,
      "outputs": []
    },
    {
      "cell_type": "code",
      "source": [],
      "metadata": {
        "id": "W9_nPmdg0O46"
      },
      "execution_count": 87,
      "outputs": []
    },
    {
      "cell_type": "code",
      "source": [
        "Y.shape"
      ],
      "metadata": {
        "id": "Fja6snLv2I34",
        "colab": {
          "base_uri": "https://localhost:8080/"
        },
        "outputId": "cd814d24-f508-4477-9dc7-1761d5098697"
      },
      "execution_count": 88,
      "outputs": [
        {
          "output_type": "execute_result",
          "data": {
            "text/plain": [
              "(3623,)"
            ]
          },
          "metadata": {},
          "execution_count": 88
        }
      ]
    },
    {
      "cell_type": "code",
      "source": [
        "#from sklearn.feature_selection import VarianceThreshold\n",
        "#selection = VarianceThreshold(threshold=(.8 * (1 - .8)))    \n",
        "#X = selection.fit_transform(X)"
      ],
      "metadata": {
        "id": "3vYwaVAXySLV"
      },
      "execution_count": 89,
      "outputs": []
    },
    {
      "cell_type": "code",
      "source": [
        "X.shape"
      ],
      "metadata": {
        "id": "N6dCPCT8yWRR",
        "colab": {
          "base_uri": "https://localhost:8080/"
        },
        "outputId": "e8a1eb2b-b301-4ece-fb5c-cfdc8b1ad27c"
      },
      "execution_count": 90,
      "outputs": [
        {
          "output_type": "execute_result",
          "data": {
            "text/plain": [
              "(3623, 881)"
            ]
          },
          "metadata": {},
          "execution_count": 90
        }
      ]
    },
    {
      "cell_type": "code",
      "source": [
        "X_train, X_test, Y_train, Y_test = train_test_split(X, Y, test_size=0.2)"
      ],
      "metadata": {
        "id": "9V4CjH53yYB0"
      },
      "execution_count": 91,
      "outputs": []
    },
    {
      "cell_type": "code",
      "source": [
        "type(X_test)"
      ],
      "metadata": {
        "id": "-a7J1wR91UgG",
        "colab": {
          "base_uri": "https://localhost:8080/"
        },
        "outputId": "46a49692-115b-48a6-a4b9-be60a6d39bc8"
      },
      "execution_count": 92,
      "outputs": [
        {
          "output_type": "execute_result",
          "data": {
            "text/plain": [
              "pandas.core.frame.DataFrame"
            ]
          },
          "metadata": {},
          "execution_count": 92
        }
      ]
    },
    {
      "cell_type": "code",
      "source": [
        "X_train.shape, Y_train.shape"
      ],
      "metadata": {
        "id": "DVu77-RMyaQU",
        "colab": {
          "base_uri": "https://localhost:8080/"
        },
        "outputId": "4643221d-7b43-4027-975f-02abc64b5d19"
      },
      "execution_count": 93,
      "outputs": [
        {
          "output_type": "execute_result",
          "data": {
            "text/plain": [
              "((2898, 881), (2898,))"
            ]
          },
          "metadata": {},
          "execution_count": 93
        }
      ]
    },
    {
      "cell_type": "code",
      "source": [
        "X_test.shape, Y_test.shape"
      ],
      "metadata": {
        "id": "MV-TcC4uycpt",
        "colab": {
          "base_uri": "https://localhost:8080/"
        },
        "outputId": "b51de2d2-9e47-4051-ff74-6f3d84c84605"
      },
      "execution_count": 94,
      "outputs": [
        {
          "output_type": "execute_result",
          "data": {
            "text/plain": [
              "((725, 881), (725,))"
            ]
          },
          "metadata": {},
          "execution_count": 94
        }
      ]
    },
    {
      "cell_type": "code",
      "source": [],
      "metadata": {
        "id": "Ac8yLO_abD3T"
      },
      "execution_count": 94,
      "outputs": []
    },
    {
      "cell_type": "markdown",
      "source": [
        "#Machine learning"
      ],
      "metadata": {
        "id": "WofMZ_yNcNe9"
      }
    },
    {
      "cell_type": "code",
      "source": [
        "from sklearn.tree import DecisionTreeRegressor, ExtraTreeRegressor\n",
        "\n",
        "from sklearn.metrics import mean_squared_error\n",
        "from sklearn.model_selection import train_test_split\n",
        "from sklearn.preprocessing import scale\n",
        "import matplotlib.pyplot as plt\n",
        "from sklearn import set_config\n",
        "from sklearn.ensemble import RandomForestRegressor"
      ],
      "metadata": {
        "id": "KxqQs_afbMNI"
      },
      "execution_count": 120,
      "outputs": []
    },
    {
      "cell_type": "markdown",
      "source": [
        "##RandomForestRegressor"
      ],
      "metadata": {
        "id": "2rLE7DrT4ByC"
      }
    },
    {
      "cell_type": "code",
      "source": [],
      "metadata": {
        "id": "BdMQY8ME3pGm"
      },
      "execution_count": null,
      "outputs": []
    },
    {
      "cell_type": "code",
      "metadata": {
        "id": "YHM3DCD5wuNe",
        "colab": {
          "base_uri": "https://localhost:8080/"
        },
        "outputId": "9e59e207-c87c-4667-9dda-e6762d9ee659"
      },
      "source": [
        "model = RandomForestRegressor(n_estimators=100)\n",
        "model.fit(X_train, Y_train)\n",
        "r2 = model.score(X_test, Y_test)\n",
        "r2"
      ],
      "execution_count": 128,
      "outputs": [
        {
          "output_type": "execute_result",
          "data": {
            "text/plain": [
              "0.5244626579619471"
            ]
          },
          "metadata": {},
          "execution_count": 128
        }
      ]
    },
    {
      "cell_type": "code",
      "metadata": {
        "id": "A4Rv5wdQ1M6H"
      },
      "source": [
        "Y_pred = model.predict(X_test)"
      ],
      "execution_count": 129,
      "outputs": []
    },
    {
      "cell_type": "code",
      "source": [
        "from sklearn.metrics import mean_squared_error, mean_absolute_error, r2_score, accuracy_score\n",
        "\n",
        "# Créer deux listes contenant les vraies valeurs et les valeurs prédites\n",
        "y_true = Y_test\n",
        "y_pred = Y_pred\n",
        "\n",
        "# Calculer l'erreur quadratique moyenne (MSE) du modèle\n",
        "mse = mean_squared_error(y_true, y_pred)\n",
        "print(\"Erreur quadratique moyenne : {:.2f}\".format(mse))\n",
        "\n",
        "# Calculer l'erreur absolue moyenne (MAE) du modèle\n",
        "mae = mean_absolute_error(y_true, y_pred)\n",
        "print(\"Erreur absolue moyenne : {:.2f}\".format(mae))\n",
        "\n",
        "# Calculer le coefficient de détermination (R²) du modèle\n",
        "r2 = r2_score(y_true, y_pred)\n",
        "print(\"Coefficient de détermination (R²) : {:.2f}\".format(r2))\n",
        "\n"
      ],
      "metadata": {
        "colab": {
          "base_uri": "https://localhost:8080/"
        },
        "id": "5yYYDNFg4L7-",
        "outputId": "e816f79b-a8e4-48ae-cc52-d8491cccfe92"
      },
      "execution_count": 130,
      "outputs": [
        {
          "output_type": "stream",
          "name": "stdout",
          "text": [
            "Erreur quadratique moyenne : 0.93\n",
            "Erreur absolue moyenne : 0.64\n",
            "Coefficient de détermination (R²) : 0.52\n"
          ]
        }
      ]
    },
    {
      "cell_type": "code",
      "metadata": {
        "id": "hfqpfjxw3IAK",
        "colab": {
          "base_uri": "https://localhost:8080/",
          "height": 497
        },
        "outputId": "bcf73289-da95-48b9-f079-3a00e395d145"
      },
      "source": [
        "import seaborn as sns\n",
        "import matplotlib.pyplot as plt\n",
        "\n",
        "sns.set(color_codes=True)\n",
        "sns.set_style(\"white\")\n",
        "\n",
        "ax = sns.regplot(x = Y_test, y = Y_pred, scatter_kws={'alpha':0.4})\n",
        "ax.set_xlabel('Experimental pIC50', fontsize='large', fontweight='bold')\n",
        "ax.set_ylabel('Predicted pIC50', fontsize='large', fontweight='bold')\n",
        "ax.set_xlim(0, 12)\n",
        "ax.set_ylim(0, 12)\n",
        "ax.figure.set_size_inches(5, 5)\n",
        "plt.show"
      ],
      "execution_count": 131,
      "outputs": [
        {
          "output_type": "execute_result",
          "data": {
            "text/plain": [
              "<function matplotlib.pyplot.show(close=None, block=None)>"
            ]
          },
          "metadata": {},
          "execution_count": 131
        },
        {
          "output_type": "display_data",
          "data": {
            "text/plain": [
              "<Figure size 500x500 with 1 Axes>"
            ],
            "image/png": "[encoded data removed]"
          },
          "metadata": {}
        }
      ]
    },
    {
      "cell_type": "code",
      "source": [],
      "metadata": {
        "id": "-qNs9u9U3pCm"
      },
      "execution_count": 131,
      "outputs": []
    },
    {
      "cell_type": "code",
      "source": [],
      "metadata": {
        "id": "-4AeYG8F3o_g"
      },
      "execution_count": 131,
      "outputs": []
    },
    {
      "cell_type": "code",
      "source": [],
      "metadata": {
        "id": "ug-TBwav3o8S"
      },
      "execution_count": 131,
      "outputs": []
    },
    {
      "cell_type": "markdown",
      "source": [
        "##DecisionTreeRegressor"
      ],
      "metadata": {
        "id": "AuLDi-V5xm5j"
      }
    },
    {
      "cell_type": "code",
      "source": [
        "#set_config(print_changed_only=False) \n",
        " \n",
        "dtr = DecisionTreeRegressor()\n",
        "print(dtr)"
      ],
      "metadata": {
        "colab": {
          "base_uri": "https://localhost:8080/"
        },
        "id": "FUqx6bR0bc7p",
        "outputId": "0e04d45d-d395-4e83-a634-a6c461c069d3"
      },
      "execution_count": 132,
      "outputs": [
        {
          "output_type": "stream",
          "name": "stdout",
          "text": [
            "DecisionTreeRegressor(ccp_alpha=0.0, criterion='squared_error', max_depth=None,\n",
            "                      max_features=None, max_leaf_nodes=None,\n",
            "                      min_impurity_decrease=0.0, min_samples_leaf=1,\n",
            "                      min_samples_split=2, min_weight_fraction_leaf=0.0,\n",
            "                      random_state=None, splitter='best')\n"
          ]
        }
      ]
    },
    {
      "cell_type": "code",
      "source": [
        "dtr.fit(X_train, Y_train)\n",
        "\n",
        "score = dtr.score(X_train, Y_train)\n",
        "print(\"R-squared:\", score) "
      ],
      "metadata": {
        "colab": {
          "base_uri": "https://localhost:8080/"
        },
        "id": "Ix9ABppVb7WF",
        "outputId": "84ceb2e3-5892-4721-c4e1-ef615a390b4f"
      },
      "execution_count": 133,
      "outputs": [
        {
          "output_type": "stream",
          "name": "stdout",
          "text": [
            "R-squared: 0.9577526309441297\n"
          ]
        }
      ]
    },
    {
      "cell_type": "code",
      "source": [
        "Y_pred = dtr.predict(X_test)\n",
        "\n",
        "mse = mean_squared_error(Y_test, Y_pred)\n",
        "print(\"MSE: \", mse)\n",
        "print(\"RMSE: \", mse**(1/2.0)) "
      ],
      "metadata": {
        "colab": {
          "base_uri": "https://localhost:8080/"
        },
        "id": "6Tm-lqsCcKl_",
        "outputId": "b716544c-7045-43dd-aaba-79412b434bc5"
      },
      "execution_count": 134,
      "outputs": [
        {
          "output_type": "stream",
          "name": "stdout",
          "text": [
            "MSE:  1.5550473665289393\n",
            "RMSE:  1.247015383437165\n"
          ]
        }
      ]
    },
    {
      "cell_type": "code",
      "source": [],
      "metadata": {
        "id": "W7WlYW2Ye4sD"
      },
      "execution_count": 134,
      "outputs": []
    },
    {
      "cell_type": "code",
      "source": [
        "Y_pred"
      ],
      "metadata": {
        "colab": {
          "base_uri": "https://localhost:8080/"
        },
        "id": "PMnmIBi0era5",
        "outputId": "82ec000c-b3d2-453a-a52f-6f8db52987f0"
      },
      "execution_count": 135,
      "outputs": [
        {
          "output_type": "execute_result",
          "data": {
            "text/plain": [
              "array([ 6.49485002,  5.10237291,  8.34075129,  5.        ,  6.71298437,\n",
              "        4.69897   ,  7.74472749,  5.92811799,  5.        ,  4.68000003,\n",
              "        7.08618615,  7.25181197,  5.07058107,  6.29068366,  5.81499928,\n",
              "        5.58502665,  6.98716278,  5.30103   ,  5.74472749,  5.        ,\n",
              "        5.50514998,  3.        ,  5.74988197,  6.55284197,  5.26999984,\n",
              "        6.4202164 , 10.67902332,  4.        ,  4.86966623,  4.35654732,\n",
              "        3.18442225,  5.57186521,  2.627088  ,  5.04095861,  6.71298437,\n",
              "        5.        ,  4.52287875,  6.02171771,  2.61978876,  5.71896663,\n",
              "        5.92883656,  5.06048075,  4.64016452,  5.02687215,  2.66374045,\n",
              "        5.00877392,  7.        ,  6.19710449,  3.088     ,  4.        ,\n",
              "        9.30998122,  4.95703093,  5.4202164 ,  3.        ,  2.61978876,\n",
              "        3.51854769,  4.0893756 ,  4.94309515,  6.31069114,  5.14874165,\n",
              "        4.161     ,  4.        ,  5.62342304,  5.07572071,  6.92081875,\n",
              "        5.70114692,  4.76955108,  3.9       ,  4.11577123,  5.56863624,\n",
              "        6.94692156,  5.12959609,  6.15490196,  5.29499204,  7.63827216,\n",
              "        5.74958   ,  5.838632  ,  6.07058107,  6.33913452,  7.28000617,\n",
              "        4.22767829,  5.46470588,  4.97061622,  4.0893756 ,  8.01188716,\n",
              "        4.43415218, 10.79593635,  7.60205999,  5.65560773,  5.16749109,\n",
              "        5.34678749,  5.69897   ,  5.52287875,  6.94309515,  5.94846161,\n",
              "        6.29068366,  5.92883656,  4.        ,  6.79588002,  7.74472749,\n",
              "        6.        ,  5.34678749,  3.2798407 ,  5.43483312,  5.        ,\n",
              "        5.36999951,  5.        ,  7.69897   ,  8.46870901,  2.75202673,\n",
              "        5.41749067,  5.        ,  5.34678749,  6.24412514,  8.23657201,\n",
              "        7.26760624,  8.11861534,  4.54821356,  6.66400082,  4.12981866,\n",
              "        5.41749067,  7.2873503 ,  6.55284197,  5.        ,  6.95999136,\n",
              "        8.17069623,  5.66756154,  5.74958   ,  6.21944931,  5.05898576,\n",
              "        5.65757732,  5.52287875,  5.        ,  5.33740678,  7.2873503 ,\n",
              "        7.        ,  7.39254498,  4.161     ,  2.5178413 ,  5.46470588,\n",
              "        3.92081875,  7.54975089,  5.14691047,  7.56863624,  5.        ,\n",
              "        5.73092932,  6.98296666,  4.31425826,  3.57745098,  7.59088705,\n",
              "        4.31425826,  5.83013917,  5.4109332 ,  6.41812124,  6.64001283,\n",
              "        4.82973828,  5.08953406,  9.1426675 ,  4.63022771,  4.838632  ,\n",
              "        4.69897   ,  4.        ,  5.04095861,  6.63827216,  4.30103   ,\n",
              "        3.91009489,  5.87000093,  7.07572071,  5.45099674,  5.35654732,\n",
              "        4.69897   ,  4.76955108,  3.49485002,  4.94309515,  2.68930669,\n",
              "        5.        ,  6.50863831,  5.62342304,  6.45593196,  6.94692156,\n",
              "        5.60672721,  7.        ,  6.81819401,  5.64380565,  6.67778071,\n",
              "        9.31875876,  7.08301995,  6.61978876,  7.63827216,  5.        ,\n",
              "        4.33724217,  6.3053038 ,  6.31875876,  4.        ,  4.30103   ,\n",
              "        4.49485002,  4.        ,  3.84133602,  6.79588002,  4.        ,\n",
              "        3.67778071,  4.26760624,  5.24041547,  6.58169871,  5.04817696,\n",
              "        4.15614458,  4.        ,  7.09691001,  6.07572071,  5.37675071,\n",
              "        4.69897   ,  5.9625735 ,  4.6750267 ,  5.3305802 ,  5.10237291,\n",
              "        7.2873503 ,  5.        ,  6.33724217,  5.25550619,  5.        ,\n",
              "        4.        ,  6.12033079,  5.31913608,  5.23657201,  5.53656651,\n",
              "        6.58502665,  3.84133602,  4.63451202,  4.26760624,  2.78578681,\n",
              "        6.79999813,  4.        ,  3.46635502,  3.        ,  7.24412514,\n",
              "        4.70114692,  5.26999984,  3.        ,  5.        ,  5.46470588,\n",
              "        5.73518218,  6.67800825,  7.04575749,  5.30103   ,  5.52000025,\n",
              "        5.52287875,  6.77340966,  5.05551733,  5.3305802 ,  7.09716881,\n",
              "        6.20953751,  3.14874165,  6.89469362,  5.        ,  6.95860731,\n",
              "        4.1426675 ,  6.80134291,  6.47755577,  6.2199997 ,  4.23732144,\n",
              "        4.76447155,  9.04575749,  5.11918641,  3.55392906,  5.52287875,\n",
              "        9.24412514,  6.62711901,  5.15552282,  5.66756154,  4.77180818,\n",
              "        4.13667714,  6.45593196,  6.35654732,  7.92081875,  5.95860731,\n",
              "        4.30103   ,  9.48148606,  4.15864053,  5.13430394,  2.97551433,\n",
              "        7.58502665,  5.92883656,  8.43997375,  8.15490196,  4.55284197,\n",
              "        5.72000016,  5.71219827,  5.67778071,  4.        ,  3.24167878,\n",
              "        4.76955108,  5.74988197,  4.        ,  7.26760624,  8.26760624,\n",
              "        8.23657201,  5.10912231,  6.88122813,  6.26814081,  4.67778071,\n",
              "        5.59006688,  5.11918641,  9.25181197,  5.55284197,  4.52578374,\n",
              "        5.        ,  5.        ,  6.14874165,  5.79048499,  5.4828041 ,\n",
              "        6.04575749,  5.66756154,  5.48148606,  5.22257318,  4.        ,\n",
              "        7.11350927,  3.30103   ,  5.        ,  5.22257318,  6.20481541,\n",
              "        3.69897   ,  7.08618615,  3.60205999,  5.07058107,  3.69897   ,\n",
              "        4.76447155,  4.35753548,  5.20620962,  3.        ,  7.4436975 ,\n",
              "        5.88605665,  7.18508682,  5.6716204 ,  6.61978876,  5.        ,\n",
              "        9.09691001,  4.67985371,  7.26760624,  6.82681373,  5.        ,\n",
              "        4.32790214,  5.67778071,  8.48545225,  6.76700389,  5.30980392,\n",
              "        7.04997609,  3.57511836,  5.52287875,  5.32790214,  4.82390874,\n",
              "        4.        ,  3.31515464,  5.26760624,  5.45328916,  5.52000025,\n",
              "        3.22184875,  5.22914799,  6.59687948,  5.25963731,  3.74472749,\n",
              "        6.35654732,  4.        ,  4.99913228,  5.        ,  5.3000002 ,\n",
              "        6.21461405,  5.29000033,  4.49485002,  4.52287875,  5.61978876,\n",
              "        5.24488773,  4.        ,  4.71219827,  6.22530495,  5.36653154,\n",
              "        4.0501223 ,  4.15614458,  8.01188716,  5.23957752,  3.69897   ,\n",
              "        4.51999306,  7.12590599,  5.10160395,  7.63827216,  8.53461715,\n",
              "        5.72000016,  5.52000025,  6.23807216,  6.21467016,  5.        ,\n",
              "        9.1426675 ,  4.00877392,  5.02456819,  5.44977165,  6.4202164 ,\n",
              "        4.24412514,  6.3819519 ,  5.52287875,  3.40450378,  4.70955461,\n",
              "        8.01188716,  5.09582563,  3.58502665,  4.13667714,  5.18045606,\n",
              "        8.03432803,  4.31425826,  4.        ,  6.78515615,  5.07058107,\n",
              "        2.81346744,  9.30998122,  5.07058107,  8.87942607,  4.54060751,\n",
              "        8.23657201,  6.71298437,  5.08953406,  8.14508698,  6.1426675 ,\n",
              "        9.10568394,  5.30103   ,  6.23657201,  5.08953406,  6.49499934,\n",
              "        3.83408398,  5.91009489,  6.47755577,  5.49214413,  7.11350927,\n",
              "        5.81247928,  4.        ,  4.        ,  4.30103   ,  5.14874165,\n",
              "        2.89790947,  6.13548892,  5.53309645,  3.462     ,  4.77180818,\n",
              "        5.537602  ,  5.12493874,  6.04914854,  3.69897   ,  7.11350927,\n",
              "        7.23073934,  6.07058107,  7.        ,  6.35999585,  5.04095861,\n",
              "        7.40694015,  4.16241156,  6.55284197,  8.07058107,  6.7530093 ,\n",
              "        6.63264408,  8.11861534,  5.        ,  4.15614458,  4.7212464 ,\n",
              "        6.57511836,  8.        ,  4.05413719,  4.1426675 ,  6.50723961,\n",
              "        4.86966623,  4.77728353,  4.88605665,  5.73092932,  6.95999136,\n",
              "        6.14508698,  4.69897   ,  5.        ,  5.52287875,  4.61350103,\n",
              "        4.15614458,  8.55284197,  6.03151705,  6.84499816,  7.51557687,\n",
              "        4.        ,  5.40893539,  5.08953406,  5.96137984,  5.40708732,\n",
              "        8.55284197,  4.44842803,  5.        , 10.87844016,  6.98716278,\n",
              "        8.63827216,  4.49757288,  7.26760624,  6.60205999,  8.38030362,\n",
              "        8.14898639,  4.38658105,  5.23020469,  6.79588002,  3.55392906,\n",
              "        6.48148606,  4.        ,  6.29413629,  5.        ,  5.50863831,\n",
              "        4.38510278,  4.30103   ,  3.65521488,  6.48148606,  4.46852108,\n",
              "        6.79999813,  6.44129143,  7.2600323 ,  4.49485002,  7.30103   ,\n",
              "        6.55284197,  5.16749109,  4.12981866,  6.06000179,  5.        ,\n",
              "        5.16749109,  5.81247928,  4.        ,  7.2873503 ,  4.38999998,\n",
              "        5.92811799,  6.89859665,  5.61978876,  7.36653154,  5.60205999,\n",
              "        6.64001283,  6.27572413,  7.52287875,  7.2873503 ,  6.89859665,\n",
              "        4.22767829,  8.14508698,  5.        ,  5.54590653,  6.19045333,\n",
              "        5.7212464 ,  9.09691001,  6.05551733,  5.16749109,  2.94923369,\n",
              "        5.        ,  7.05060999,  4.69897   ,  6.77340966,  8.56863624,\n",
              "        5.60205999,  5.16115091,  3.86618279,  5.25963731,  3.30103   ,\n",
              "        3.71944931,  9.48999149,  5.3205721 ,  6.55284197,  5.53910216,\n",
              "        5.        ,  6.69070553,  6.21467016,  4.16241156,  3.2798407 ,\n",
              "        4.38658105,  3.71700001,  5.        ,  5.4202164 ,  7.91865269,\n",
              "        4.83697552,  4.90308999,  3.31515464,  7.38721614,  6.56066731,\n",
              "        4.65757732,  6.84499816,  2.89790947,  5.18111459,  5.09691001,\n",
              "        6.38441818,  4.83268267,  4.48571437,  6.91299172,  7.43215055,\n",
              "        5.69897   ,  5.25963731,  7.35319499,  4.19382003,  3.43651891,\n",
              "        5.52287875,  7.        ,  4.        ,  5.44129143,  6.06550155,\n",
              "        3.63999999,  6.15490196,  6.84466396,  4.16999998,  8.07058107,\n",
              "        5.3305802 ,  5.1739252 ,  5.        ,  5.73992861,  6.81744328,\n",
              "        7.69250396,  5.63451202,  3.        ,  3.45116853,  4.        ,\n",
              "        6.33724217,  7.08301995,  6.80134291,  5.59682833,  4.30980392,\n",
              "        5.58502665,  6.34678749,  7.16669304,  3.60000001,  5.15541719,\n",
              "        5.37675071,  5.82390874,  6.21538271,  2.89790947,  5.07987667,\n",
              "        5.38499739, 10.57105571,  7.88605665,  4.05413719,  5.10237291,\n",
              "        6.04914854,  3.44009337,  8.34075129,  5.30103   ,  4.15490196,\n",
              "        5.        ,  4.        ,  8.26760624,  5.88605665,  6.67778071,\n",
              "        5.11804503,  7.63827216,  7.9990067 ,  4.69897   ,  4.35753548,\n",
              "        5.        ,  5.53309645,  4.98970004,  7.54098483,  5.05305673,\n",
              "        4.63451202,  4.30103   ,  6.03151705,  3.83408398,  3.69897   ,\n",
              "        6.70065945,  5.01322827,  4.07058107,  3.14199833,  8.43997375,\n",
              "        9.04575749,  4.        ,  4.83120798,  5.48148606,  3.41907502,\n",
              "        5.29499204,  3.03151705,  5.        ,  8.15490196,  4.67000002,\n",
              "        6.60205999,  7.74472749,  2.58502665,  7.4202164 ,  4.95703093,\n",
              "        4.16999998,  5.        ,  7.4436975 , 10.96058588,  4.161     ,\n",
              "        7.92081875,  7.58502665,  5.        ,  5.53910216,  5.52287875,\n",
              "        5.4700002 ,  5.87942607,  5.67366414,  6.20059228,  5.4034377 ,\n",
              "        9.25181197,  5.52000025,  6.22502494,  8.24074303,  5.38404995,\n",
              "        6.28033365,  7.07572071,  4.70114692,  7.26760624,  3.69897   ,\n",
              "        4.48017201,  6.69897   ,  7.4225082 ,  5.76955108,  5.30103   ,\n",
              "        4.61999999,  5.56863624,  4.15614458,  4.85387196,  8.14898639,\n",
              "        6.38441818,  6.62711901,  3.75945075,  7.95467702,  4.40120949,\n",
              "        4.0501223 ,  7.91865269,  7.25963731,  3.60000001,  6.20065945,\n",
              "        5.37675071,  3.69897   ,  7.27572413,  5.23020469,  4.39794001])"
            ]
          },
          "metadata": {},
          "execution_count": 135
        }
      ]
    },
    {
      "cell_type": "code",
      "source": [],
      "metadata": {
        "id": "4Hxl-QYnw7YL"
      },
      "execution_count": 135,
      "outputs": []
    },
    {
      "cell_type": "code",
      "source": [
        "from sklearn.metrics import mean_squared_error, mean_absolute_error, r2_score, accuracy_score\n",
        "\n",
        "# Créer deux listes contenant les vraies valeurs et les valeurs prédites\n",
        "y_true = Y_test\n",
        "y_pred = Y_pred\n",
        "\n",
        "# Calculer l'erreur quadratique moyenne (MSE) du modèle\n",
        "mse = mean_squared_error(y_true, y_pred)\n",
        "print(\"Erreur quadratique moyenne : {:.2f}\".format(mse))\n",
        "\n",
        "# Calculer l'erreur absolue moyenne (MAE) du modèle\n",
        "mae = mean_absolute_error(y_true, y_pred)\n",
        "print(\"Erreur absolue moyenne : {:.2f}\".format(mae))\n",
        "\n",
        "# Calculer le coefficient de détermination (R²) du modèle\n",
        "r2 = r2_score(y_true, y_pred)\n",
        "print(\"Coefficient de détermination (R²) : {:.2f}\".format(r2))\n",
        "\n"
      ],
      "metadata": {
        "colab": {
          "base_uri": "https://localhost:8080/"
        },
        "id": "4R-I9pkXcgkT",
        "outputId": "2b308e5e-da56-43ff-892c-144a10f45833"
      },
      "execution_count": 137,
      "outputs": [
        {
          "output_type": "stream",
          "name": "stdout",
          "text": [
            "Erreur quadratique moyenne : 1.56\n",
            "Erreur absolue moyenne : 0.83\n",
            "Coefficient de détermination (R²) : 0.20\n"
          ]
        }
      ]
    },
    {
      "cell_type": "code",
      "source": [
        "import seaborn as sns\n",
        "import matplotlib.pyplot as plt\n",
        "\n",
        "sns.set(color_codes=True)\n",
        "sns.set_style(\"white\")\n",
        "\n",
        "ax = sns.regplot(x = Y_test, y = Y_pred, scatter_kws={'alpha':0.4})\n",
        "ax.set_xlabel('Experimental pIC50', fontsize='large', fontweight='bold')\n",
        "ax.set_ylabel('Predicted pIC50', fontsize='large', fontweight='bold')\n",
        "ax.set_xlim(0, 12)\n",
        "ax.set_ylim(0, 12)\n",
        "ax.figure.set_size_inches(5, 5)\n",
        "plt.show"
      ],
      "metadata": {
        "colab": {
          "base_uri": "https://localhost:8080/",
          "height": 497
        },
        "id": "JNQAcI0H4gm6",
        "outputId": "fd900725-0cfe-405d-e755-0472cbc6d45a"
      },
      "execution_count": 138,
      "outputs": [
        {
          "output_type": "execute_result",
          "data": {
            "text/plain": [
              "<function matplotlib.pyplot.show(close=None, block=None)>"
            ]
          },
          "metadata": {},
          "execution_count": 138
        },
        {
          "output_type": "display_data",
          "data": {
            "text/plain": [
              "<Figure size 500x500 with 1 Axes>"
            ],
            "image/png": "[encoded data removed]"
          },
          "metadata": {}
        }
      ]
    },
    {
      "cell_type": "markdown",
      "source": [
        "##ExtraTreeRegressor"
      ],
      "metadata": {
        "id": "KFTE9Tmbxtqg"
      }
    },
    {
      "cell_type": "code",
      "source": [],
      "metadata": {
        "id": "9esSmWvTc53L"
      },
      "execution_count": 138,
      "outputs": []
    },
    {
      "cell_type": "code",
      "source": [
        "#set_config(print_changed_only=False) \n",
        " \n",
        "dtr = ExtraTreeRegressor()\n",
        "print(dtr)"
      ],
      "metadata": {
        "colab": {
          "base_uri": "https://localhost:8080/"
        },
        "outputId": "52c9d9e7-4c6b-447a-a6cd-73fee0ff3075",
        "id": "jeOo0dCZx_Sn"
      },
      "execution_count": 139,
      "outputs": [
        {
          "output_type": "stream",
          "name": "stdout",
          "text": [
            "ExtraTreeRegressor(ccp_alpha=0.0, criterion='squared_error', max_depth=None,\n",
            "                   max_features=1.0, max_leaf_nodes=None,\n",
            "                   min_impurity_decrease=0.0, min_samples_leaf=1,\n",
            "                   min_samples_split=2, min_weight_fraction_leaf=0.0,\n",
            "                   random_state=None, splitter='random')\n"
          ]
        }
      ]
    },
    {
      "cell_type": "code",
      "source": [
        "dtr.fit(X_train, Y_train)\n",
        "\n",
        "score = dtr.score(X_train, Y_train)\n",
        "print(\"R-squared:\", score) "
      ],
      "metadata": {
        "colab": {
          "base_uri": "https://localhost:8080/"
        },
        "outputId": "b6cde157-7fc9-4e53-c8ce-d1adf671b4c7",
        "id": "rHzmPuNzx_Sp"
      },
      "execution_count": 140,
      "outputs": [
        {
          "output_type": "stream",
          "name": "stdout",
          "text": [
            "R-squared: 0.9577526309441297\n"
          ]
        }
      ]
    },
    {
      "cell_type": "code",
      "source": [
        "Y_pred = dtr.predict(X_test)\n",
        "\n",
        "mse = mean_squared_error(Y_test, y_pred)\n",
        "print(\"MSE: \", mse)\n",
        "print(\"RMSE: \", mse**(1/2.0)) "
      ],
      "metadata": {
        "colab": {
          "base_uri": "https://localhost:8080/"
        },
        "outputId": "043cefb3-359d-47bc-aded-1457e8b756e6",
        "id": "juANQ89Ax_Sq"
      },
      "execution_count": 141,
      "outputs": [
        {
          "output_type": "stream",
          "name": "stdout",
          "text": [
            "MSE:  1.5550473665289393\n",
            "RMSE:  1.247015383437165\n"
          ]
        }
      ]
    },
    {
      "cell_type": "code",
      "source": [
        "Y_pred"
      ],
      "metadata": {
        "colab": {
          "base_uri": "https://localhost:8080/"
        },
        "id": "EPhNL9_pyMYr",
        "outputId": "4ee5d681-943a-4b12-a022-eb71bb10731c"
      },
      "execution_count": 142,
      "outputs": [
        {
          "output_type": "execute_result",
          "data": {
            "text/plain": [
              "array([ 6.49485002,  5.10237291,  8.34075129,  5.        ,  6.71298437,\n",
              "        4.69897   ,  7.74472749,  5.82390874,  5.        ,  4.68000003,\n",
              "        7.08618615,  7.25181197,  5.07058107,  6.29068366,  5.81499928,\n",
              "        5.58502665,  6.98716278,  5.30103   ,  5.74472749,  5.        ,\n",
              "        5.50514998,  3.        ,  5.74988197,  6.55284197,  5.26999984,\n",
              "        6.4202164 , 10.67902332,  4.        ,  4.86966623,  4.35654732,\n",
              "        3.18442225,  5.57186521,  2.60380065,  5.04095861,  6.71298437,\n",
              "        5.        ,  4.52287875,  6.02171771,  2.61978876,  5.71896663,\n",
              "        5.92883656,  5.07058107,  4.24412514,  5.02687215,  2.66374045,\n",
              "        5.00436481, 10.57105571,  6.19710449,  3.088     ,  4.        ,\n",
              "        9.30998122,  4.95272513,  5.4202164 ,  3.        ,  4.55284197,\n",
              "        3.51854769,  4.0893756 ,  4.94309515,  6.31069114,  5.14874165,\n",
              "        4.161     ,  4.        ,  5.62342304,  5.07572071,  6.92081875,\n",
              "        5.88605665,  3.        ,  3.9       ,  4.69250396,  5.56863624,\n",
              "        6.94692156,  5.12959609,  7.43062609,  5.29499204,  7.63827216,\n",
              "        5.74958   ,  5.838632  ,  6.07058107,  6.43415218,  7.28000617,\n",
              "        4.22767829,  5.46470588,  4.97061622,  4.        ,  7.15490196,\n",
              "        6.29068366, 10.79593635,  7.60205999,  5.65560773,  5.16749109,\n",
              "        5.34678749,  6.91299172,  5.52287875,  6.94309515,  5.94846161,\n",
              "        6.29068366,  5.92883656,  4.        ,  6.79588002,  7.74472749,\n",
              "        6.        ,  5.34678749,  3.2798407 ,  4.74472749,  5.        ,\n",
              "        5.36999951,  5.        ,  7.69897   ,  8.46870901,  2.75202673,\n",
              "        7.43179828,  5.        ,  5.34678749,  6.24412514,  8.23657201,\n",
              "        7.26760624,  8.11861534,  4.54821356,  6.66400082,  4.12981866,\n",
              "        7.43179828,  5.20760831,  6.55284197,  5.        ,  6.95999136,\n",
              "        8.17069623,  5.66756154,  5.74958   ,  6.21944931,  5.        ,\n",
              "        6.00436481,  5.52287875,  5.        ,  5.33740678,  7.2873503 ,\n",
              "       10.57105571,  7.00877392,  4.161     ,  2.5178413 ,  5.46470588,\n",
              "        3.92081875,  6.89859665,  5.14691047,  7.56863624,  5.        ,\n",
              "        5.73092932,  6.98296666,  4.31425826,  5.22400021,  7.59088705,\n",
              "        4.64206515,  6.24515937,  5.58094187,  6.41812124,  6.64001283,\n",
              "        4.82973828,  5.08953406,  5.93930216,  4.32790214,  5.        ,\n",
              "        4.69897   ,  4.        ,  5.33724217,  6.63827216,  4.30103   ,\n",
              "        3.91009489,  5.87000093,  7.07572071,  5.45099674,  5.30103   ,\n",
              "        4.69897   ,  4.33724217,  3.49485002,  4.94309515,  2.68930669,\n",
              "        5.        ,  6.50863831,  5.62342304,  6.45593196,  6.94692156,\n",
              "        5.60672721,  7.        ,  6.81819401,  5.64380565,  6.67778071,\n",
              "        9.31875876,  7.08301995,  6.61978876,  7.63827216,  5.        ,\n",
              "        3.93888695,  6.3053038 ,  6.06550155,  5.57348874,  4.30103   ,\n",
              "        4.52287875,  4.        ,  4.32790214,  6.79588002,  4.        ,\n",
              "        3.67778071,  4.        ,  5.24041547,  6.58169871,  5.04817696,\n",
              "        4.15614458,  4.        ,  7.09691001,  6.07572071,  5.13667714,\n",
              "        4.69897   ,  5.92060473,  4.6750267 ,  5.3305802 ,  5.10237291,\n",
              "        5.22914799,  4.8431481 ,  6.33724217,  5.25550619,  5.        ,\n",
              "        4.        ,  6.12033079,  5.31913608,  5.23657201,  5.53656651,\n",
              "        6.58502665,  4.32790214,  4.63451202,  4.26760624,  2.78578681,\n",
              "        6.79999813,  4.        ,  3.46635502,  3.        ,  7.24412514,\n",
              "        4.70114692,  5.26999984,  3.        ,  5.        ,  5.46470588,\n",
              "        5.73518218,  6.67800825,  7.04575749,  5.30103   ,  5.52000025,\n",
              "        5.52287875,  6.77340966,  5.05551733,  5.13846559,  7.09716881,\n",
              "        6.20953751,  3.14874165,  6.89469362,  6.        ,  6.95860731,\n",
              "        4.1426675 ,  6.80134291,  6.72815839,  6.2199997 ,  3.69897   ,\n",
              "        4.69897   ,  9.04575749,  5.11918641,  3.55392906,  5.52287875,\n",
              "        4.86646109,  6.62711901,  5.        ,  5.66756154,  4.77180818,\n",
              "        4.13667714,  6.45593196,  6.35654732,  7.92081875,  5.        ,\n",
              "        6.52287875,  9.48148606,  4.15864053,  5.13430394,  3.69897   ,\n",
              "        7.58502665,  5.92883656,  8.43997375,  8.15490196,  4.55284197,\n",
              "        5.72000016,  5.71219827,  5.54590653,  4.        ,  3.24167878,\n",
              "        4.76955108,  5.74988197,  4.        ,  7.26760624,  9.25181197,\n",
              "        8.23657201,  5.10912231,  6.88122813,  6.26814081,  4.67778071,\n",
              "        5.59006688,  5.11918641,  9.25181197,  5.55284197,  4.52578374,\n",
              "        5.        ,  5.        ,  6.14874165,  5.79048499,  5.4828041 ,\n",
              "        6.04575749,  5.66756154,  5.48148606,  5.26600071,  4.        ,\n",
              "        7.11350927,  3.30103   ,  5.        ,  5.22257318,  6.20481541,\n",
              "        3.69897   ,  7.08618615,  3.60205999,  5.07058107,  4.21112488,\n",
              "        4.69897   ,  4.35753548,  5.20620962,  3.        ,  7.4436975 ,\n",
              "        5.69036983,  7.18508682,  5.6716204 ,  6.61978876,  5.        ,\n",
              "        9.09691001,  4.18708664,  6.73992861,  6.82681373,  5.        ,\n",
              "        4.32790214,  5.69897   ,  8.48545225,  6.76700389,  5.30980392,\n",
              "        7.04997609,  3.72955409,  5.52287875,  5.32790214,  4.82390874,\n",
              "        4.        ,  3.53610701,  5.26760624,  5.45328916,  5.52000025,\n",
              "        3.22184875,  5.22914799,  6.59687948,  5.25963731,  3.74472749,\n",
              "        6.35654732,  4.        ,  4.99913228,  5.        ,  5.54000023,\n",
              "        6.76955108,  5.29000033,  3.93888695,  4.52287875,  5.63827216,\n",
              "        5.24488773,  3.63999999,  4.71219827,  6.22530495,  5.40893539,\n",
              "        3.60205999,  4.        ,  8.01188716,  5.23957752,  3.69897   ,\n",
              "        4.51999306,  7.12590599,  5.10160395,  7.63827216,  8.53461715,\n",
              "        5.72000016,  5.52000025,  6.23807216,  6.21467016,  5.42136079,\n",
              "        5.93930216,  4.00877392,  5.02456819,  5.44977165,  6.4202164 ,\n",
              "        4.24412514,  6.3819519 ,  5.52287875,  3.40450378,  4.70955461,\n",
              "        8.01188716,  5.09582563,  3.58502665,  4.13667714,  5.18045606,\n",
              "        5.93930216,  4.31425826,  4.        ,  6.78515615,  5.07058107,\n",
              "        2.81346744,  9.30998122,  5.06048075,  8.87942607,  4.54821356,\n",
              "        8.23657201,  6.71298437,  5.08953406,  6.52287875,  6.1426675 ,\n",
              "        9.10568394,  5.30103   ,  6.23657201,  5.08953406,  6.49499934,\n",
              "        3.83408398,  5.91009489,  6.47755577,  5.49214413,  7.11350927,\n",
              "        5.81247928,  4.        ,  4.        ,  4.30103   ,  5.14874165,\n",
              "        3.69897   ,  6.13548892,  5.53309645,  3.462     ,  4.77180818,\n",
              "        5.537602  ,  5.12493874,  6.04914854,  3.69897   ,  7.11350927,\n",
              "        7.23073934,  6.07058107,  7.        ,  6.35999585,  5.04095861,\n",
              "        7.40694015,  4.16241156,  6.55284197,  8.07058107,  6.7530093 ,\n",
              "        6.63264408,  8.11861534,  5.        ,  4.15614458,  4.7212464 ,\n",
              "        6.57511836,  8.        ,  4.05413719,  4.1426675 ,  6.50723961,\n",
              "        4.91292879,  5.        ,  5.        ,  5.73092932,  6.95999136,\n",
              "        6.14508698,  4.69897   ,  5.        ,  5.52287875,  4.61350103,\n",
              "        4.        ,  8.55284197,  6.03151705,  7.4225082 ,  7.51557687,\n",
              "        4.        ,  5.36653154,  5.08953406,  5.96137984,  5.40708732,\n",
              "        7.63827216,  4.44842803,  5.22184875, 10.87844016,  6.98716278,\n",
              "        8.63827216,  4.49757288,  7.26760624,  6.66254074,  8.38030362,\n",
              "        8.14898639,  4.38658105,  5.23020469,  6.79588002,  3.55392906,\n",
              "        5.57675413,  4.        ,  6.29413629,  5.        ,  5.50863831,\n",
              "        4.38510278,  4.30103   ,  3.65521488,  5.57675413,  4.46852108,\n",
              "        6.79999813,  6.44129143,  7.2600323 ,  3.93888695,  7.30103   ,\n",
              "        6.55284197,  5.03151705,  4.12981866,  6.06000179,  5.        ,\n",
              "        5.16749109,  5.81247928,  4.        ,  7.2873503 ,  4.8827287 ,\n",
              "        5.82390874,  6.1426675 ,  5.61978876,  6.7212464 ,  5.60205999,\n",
              "        6.64001283,  6.27572413,  7.52287875,  5.20760831,  6.89859665,\n",
              "        4.22767829,  8.14508698,  5.        ,  5.54590653,  6.19045333,\n",
              "        5.7212464 ,  9.09691001,  6.05551733,  5.16749109,  2.94923369,\n",
              "        5.549     ,  6.81725601,  4.69897   ,  6.77340966,  7.74232143,\n",
              "        5.60205999,  5.16115091,  3.86618279,  5.25963731,  3.30103   ,\n",
              "        3.71944931,  9.48999149,  5.3205721 ,  6.55284197,  5.53910216,\n",
              "        5.        ,  5.        ,  6.21467016,  4.16241156,  3.2798407 ,\n",
              "        4.38658105,  4.        ,  5.        ,  5.4202164 ,  7.91865269,\n",
              "        4.83697552,  4.90308999,  3.31515464,  7.38721614,  6.18045606,\n",
              "        4.65757732,  7.4225082 ,  3.        ,  5.18111459,  5.09691001,\n",
              "        6.38441818,  4.83268267,  4.48571437,  7.52287875,  7.43215055,\n",
              "        5.69897   ,  5.25963731,  7.35319499,  4.19382003,  4.70774393,\n",
              "        5.52287875,  7.        ,  4.        ,  5.44129143,  6.06550155,\n",
              "        3.63999999,  4.91524504,  6.07572071,  5.1649439 ,  8.07058107,\n",
              "        5.13846559,  5.1739252 ,  5.        ,  5.73992861,  6.81744328,\n",
              "        7.69250396,  5.63451202,  3.        ,  3.45116853,  4.        ,\n",
              "        6.33724217,  7.08301995,  6.80134291,  5.59682833,  4.30980392,\n",
              "        5.58502665,  6.34678749,  7.16669304,  2.431     ,  5.15541719,\n",
              "        5.13667714,  6.19654288,  6.21538271,  2.89790947,  5.07987667,\n",
              "        5.38499739, 10.57105571,  7.88605665,  4.05413719,  5.08092191,\n",
              "        6.04914854,  3.44009337,  8.34075129,  5.30103   ,  4.15490196,\n",
              "        6.65364703,  4.        ,  8.26760624,  4.95860731,  6.67778071,\n",
              "        4.43770714,  7.63827216,  7.9990067 ,  4.69897   ,  4.35753548,\n",
              "        6.82390874,  5.53309645,  4.98970004,  7.54098483,  4.92299567,\n",
              "        4.63451202,  4.30103   ,  6.03151705,  3.83408398,  3.69897   ,\n",
              "        6.70065945,  5.01322827,  4.07058107,  3.20370326,  8.43997375,\n",
              "        9.04575749,  4.        ,  4.5926091 ,  5.48148606,  3.41907502,\n",
              "        5.29499204,  2.78578681,  5.        ,  8.15490196,  4.67000002,\n",
              "        6.66254074,  7.74472749,  2.67778071,  7.4202164 ,  4.95272513,\n",
              "        6.1700533 ,  5.        ,  5.30980392, 10.96058588,  4.161     ,\n",
              "        7.92081875,  7.58502665,  5.        ,  5.53910216,  5.52287875,\n",
              "        5.4700002 ,  5.87942607,  5.67366414,  6.20059228,  5.4034377 ,\n",
              "        7.60730305,  5.52000025,  6.22502494,  8.24074303,  5.38404995,\n",
              "        6.28033365,  7.07572071,  4.70114692,  7.26760624,  3.622     ,\n",
              "        4.48017201,  6.69897   ,  7.4225082 ,  5.76955108,  5.30103   ,\n",
              "        4.61999999,  5.56863624,  4.        ,  4.85387196,  8.14898639,\n",
              "        6.38441818,  6.62711901,  3.75945075,  7.95467702,  4.40120949,\n",
              "        3.60205999,  7.91865269,  7.25963731,  2.431     ,  6.20065945,\n",
              "        5.37675071,  4.05060999,  7.27572413,  5.23020469,  4.39794001])"
            ]
          },
          "metadata": {},
          "execution_count": 142
        }
      ]
    },
    {
      "cell_type": "code",
      "source": [
        "from sklearn.metrics import mean_squared_error, mean_absolute_error, r2_score, accuracy_score\n",
        "\n",
        "# Créer deux listes contenant les vraies valeurs et les valeurs prédites\n",
        "y_true = Y_test\n",
        "y_pred = Y_pred\n",
        "\n",
        "# Calculer l'erreur quadratique moyenne (MSE) du modèle\n",
        "mse = mean_squared_error(y_true, y_pred)\n",
        "print(\"Erreur quadratique moyenne : {:.2f}\".format(mse))\n",
        "\n",
        "# Calculer l'erreur absolue moyenne (MAE) du modèle\n",
        "mae = mean_absolute_error(y_true, y_pred)\n",
        "print(\"Erreur absolue moyenne : {:.2f}\".format(mae))\n",
        "\n",
        "# Calculer le coefficient de détermination (R²) du modèle\n",
        "r2 = r2_score(y_true, y_pred)\n",
        "print(\"Coefficient de détermination (R²) : {:.2f}\".format(r2))\n",
        "\n"
      ],
      "metadata": {
        "colab": {
          "base_uri": "https://localhost:8080/"
        },
        "id": "oXNaCiGPyO21",
        "outputId": "b2df6ea2-5fd9-43d3-9d70-de7471c6c1de"
      },
      "execution_count": 143,
      "outputs": [
        {
          "output_type": "stream",
          "name": "stdout",
          "text": [
            "Erreur quadratique moyenne : 1.50\n",
            "Erreur absolue moyenne : 0.81\n",
            "Coefficient de détermination (R²) : 0.23\n"
          ]
        }
      ]
    },
    {
      "cell_type": "code",
      "source": [
        "import seaborn as sns\n",
        "import matplotlib.pyplot as plt\n",
        "\n",
        "sns.set(color_codes=True)\n",
        "sns.set_style(\"white\")\n",
        "\n",
        "ax = sns.regplot(x = Y_test, y = Y_pred, scatter_kws={'alpha':0.4})\n",
        "ax.set_xlabel('Experimental pIC50', fontsize='large', fontweight='bold')\n",
        "ax.set_ylabel('Predicted pIC50', fontsize='large', fontweight='bold')\n",
        "ax.set_xlim(0, 12)\n",
        "ax.set_ylim(0, 12)\n",
        "ax.figure.set_size_inches(5, 5)\n",
        "plt.show"
      ],
      "metadata": {
        "colab": {
          "base_uri": "https://localhost:8080/",
          "height": 497
        },
        "id": "NlABoGZ_yS5_",
        "outputId": "28ce992d-4e0f-494b-ce9b-32828bf5ba99"
      },
      "execution_count": 144,
      "outputs": [
        {
          "output_type": "execute_result",
          "data": {
            "text/plain": [
              "<function matplotlib.pyplot.show(close=None, block=None)>"
            ]
          },
          "metadata": {},
          "execution_count": 144
        },
        {
          "output_type": "display_data",
          "data": {
            "text/plain": [
              "<Figure size 500x500 with 1 Axes>"
            ],
            "image/png": "[encoded data removed]"
          },
          "metadata": {}
        }
      ]
    },
    {
      "cell_type": "markdown",
      "source": [
        "#Deep learning"
      ],
      "metadata": {
        "id": "N8_q6t6YBBtT"
      }
    },
    {
      "cell_type": "code",
      "source": [
        "import numpy as np\n",
        "import tensorflow as tf\n",
        "from tensorflow import keras\n",
        "from keras import layers\n",
        "\n",
        "# Définir l'architecture du modèle\n",
        "model = keras.Sequential([\n",
        "    layers.Dense(100, activation='tanh', input_dim=881),\n",
        "    layers.Dense(100, activation='tanh'),\n",
        "    layers.Dense(1, activation='softmax')\n",
        "])\n",
        "\n",
        "# Compiler le modèle avec une fonction de perte, un optimiseur et une métrique d'évaluation\n",
        "model.compile(loss='Huber', optimizer='adam', metrics=['accuracy'])\n",
        "\n",
        "# Générer des données d'entraînement factices\n",
        "#x_train = np.random.random((1000, 10))\n",
        "#y_train = keras.utils.to_categorical(np.random.randint(2, size=(1000, 1)), num_classes=2)\n",
        "\n",
        "# Entraîner le modèle sur les données d'entraînement\n",
        "model.fit(X_train, Y_train, epochs=100, batch_size=len(train),  verbose=2)\n"
      ],
      "metadata": {
        "colab": {
          "base_uri": "https://localhost:8080/"
        },
        "id": "WhVYohic51pU",
        "outputId": "0a365d4d-7ae1-4298-d0e7-3bcd0adcefe5"
      },
      "execution_count": 159,
      "outputs": [
        {
          "output_type": "stream",
          "name": "stdout",
          "text": [
            "Epoch 1/100\n",
            "1/1 - 1s - loss: 4.0556 - accuracy: 6.9013e-04 - 582ms/epoch - 582ms/step\n",
            "Epoch 2/100\n",
            "1/1 - 0s - loss: 4.0556 - accuracy: 6.9013e-04 - 32ms/epoch - 32ms/step\n",
            "Epoch 3/100\n",
            "1/1 - 0s - loss: 4.0556 - accuracy: 6.9013e-04 - 30ms/epoch - 30ms/step\n",
            "Epoch 4/100\n",
            "1/1 - 0s - loss: 4.0556 - accuracy: 6.9013e-04 - 31ms/epoch - 31ms/step\n",
            "Epoch 5/100\n",
            "1/1 - 0s - loss: 4.0556 - accuracy: 6.9013e-04 - 32ms/epoch - 32ms/step\n",
            "Epoch 6/100\n",
            "1/1 - 0s - loss: 4.0556 - accuracy: 6.9013e-04 - 28ms/epoch - 28ms/step\n",
            "Epoch 7/100\n",
            "1/1 - 0s - loss: 4.0556 - accuracy: 6.9013e-04 - 31ms/epoch - 31ms/step\n",
            "Epoch 8/100\n",
            "1/1 - 0s - loss: 4.0556 - accuracy: 6.9013e-04 - 37ms/epoch - 37ms/step\n",
            "Epoch 9/100\n",
            "1/1 - 0s - loss: 4.0556 - accuracy: 6.9013e-04 - 29ms/epoch - 29ms/step\n",
            "Epoch 10/100\n",
            "1/1 - 0s - loss: 4.0556 - accuracy: 6.9013e-04 - 29ms/epoch - 29ms/step\n",
            "Epoch 11/100\n",
            "1/1 - 0s - loss: 4.0556 - accuracy: 6.9013e-04 - 31ms/epoch - 31ms/step\n",
            "Epoch 12/100\n",
            "1/1 - 0s - loss: 4.0556 - accuracy: 6.9013e-04 - 29ms/epoch - 29ms/step\n",
            "Epoch 13/100\n",
            "1/1 - 0s - loss: 4.0556 - accuracy: 6.9013e-04 - 30ms/epoch - 30ms/step\n",
            "Epoch 14/100\n",
            "1/1 - 0s - loss: 4.0556 - accuracy: 6.9013e-04 - 29ms/epoch - 29ms/step\n",
            "Epoch 15/100\n",
            "1/1 - 0s - loss: 4.0556 - accuracy: 6.9013e-04 - 29ms/epoch - 29ms/step\n",
            "Epoch 16/100\n",
            "1/1 - 0s - loss: 4.0556 - accuracy: 6.9013e-04 - 44ms/epoch - 44ms/step\n",
            "Epoch 17/100\n",
            "1/1 - 0s - loss: 4.0556 - accuracy: 6.9013e-04 - 30ms/epoch - 30ms/step\n",
            "Epoch 18/100\n",
            "1/1 - 0s - loss: 4.0556 - accuracy: 6.9013e-04 - 32ms/epoch - 32ms/step\n",
            "Epoch 19/100\n",
            "1/1 - 0s - loss: 4.0556 - accuracy: 6.9013e-04 - 29ms/epoch - 29ms/step\n",
            "Epoch 20/100\n",
            "1/1 - 0s - loss: 4.0556 - accuracy: 6.9013e-04 - 32ms/epoch - 32ms/step\n",
            "Epoch 21/100\n",
            "1/1 - 0s - loss: 4.0556 - accuracy: 6.9013e-04 - 34ms/epoch - 34ms/step\n",
            "Epoch 22/100\n",
            "1/1 - 0s - loss: 4.0556 - accuracy: 6.9013e-04 - 28ms/epoch - 28ms/step\n",
            "Epoch 23/100\n",
            "1/1 - 0s - loss: 4.0556 - accuracy: 6.9013e-04 - 30ms/epoch - 30ms/step\n",
            "Epoch 24/100\n",
            "1/1 - 0s - loss: 4.0556 - accuracy: 6.9013e-04 - 30ms/epoch - 30ms/step\n",
            "Epoch 25/100\n",
            "1/1 - 0s - loss: 4.0556 - accuracy: 6.9013e-04 - 28ms/epoch - 28ms/step\n",
            "Epoch 26/100\n",
            "1/1 - 0s - loss: 4.0556 - accuracy: 6.9013e-04 - 32ms/epoch - 32ms/step\n",
            "Epoch 27/100\n",
            "1/1 - 0s - loss: 4.0556 - accuracy: 6.9013e-04 - 30ms/epoch - 30ms/step\n",
            "Epoch 28/100\n",
            "1/1 - 0s - loss: 4.0556 - accuracy: 6.9013e-04 - 29ms/epoch - 29ms/step\n",
            "Epoch 29/100\n",
            "1/1 - 0s - loss: 4.0556 - accuracy: 6.9013e-04 - 30ms/epoch - 30ms/step\n",
            "Epoch 30/100\n",
            "1/1 - 0s - loss: 4.0556 - accuracy: 6.9013e-04 - 30ms/epoch - 30ms/step\n",
            "Epoch 31/100\n",
            "1/1 - 0s - loss: 4.0556 - accuracy: 6.9013e-04 - 29ms/epoch - 29ms/step\n",
            "Epoch 32/100\n",
            "1/1 - 0s - loss: 4.0556 - accuracy: 6.9013e-04 - 35ms/epoch - 35ms/step\n",
            "Epoch 33/100\n",
            "1/1 - 0s - loss: 4.0556 - accuracy: 6.9013e-04 - 28ms/epoch - 28ms/step\n",
            "Epoch 34/100\n",
            "1/1 - 0s - loss: 4.0556 - accuracy: 6.9013e-04 - 28ms/epoch - 28ms/step\n",
            "Epoch 35/100\n",
            "1/1 - 0s - loss: 4.0556 - accuracy: 6.9013e-04 - 28ms/epoch - 28ms/step\n",
            "Epoch 36/100\n",
            "1/1 - 0s - loss: 4.0556 - accuracy: 6.9013e-04 - 28ms/epoch - 28ms/step\n",
            "Epoch 37/100\n",
            "1/1 - 0s - loss: 4.0556 - accuracy: 6.9013e-04 - 42ms/epoch - 42ms/step\n",
            "Epoch 38/100\n",
            "1/1 - 0s - loss: 4.0556 - accuracy: 6.9013e-04 - 37ms/epoch - 37ms/step\n",
            "Epoch 39/100\n",
            "1/1 - 0s - loss: 4.0556 - accuracy: 6.9013e-04 - 28ms/epoch - 28ms/step\n",
            "Epoch 40/100\n",
            "1/1 - 0s - loss: 4.0556 - accuracy: 6.9013e-04 - 28ms/epoch - 28ms/step\n",
            "Epoch 41/100\n",
            "1/1 - 0s - loss: 4.0556 - accuracy: 6.9013e-04 - 28ms/epoch - 28ms/step\n",
            "Epoch 42/100\n",
            "1/1 - 0s - loss: 4.0556 - accuracy: 6.9013e-04 - 28ms/epoch - 28ms/step\n",
            "Epoch 43/100\n",
            "1/1 - 0s - loss: 4.0556 - accuracy: 6.9013e-04 - 27ms/epoch - 27ms/step\n",
            "Epoch 44/100\n",
            "1/1 - 0s - loss: 4.0556 - accuracy: 6.9013e-04 - 28ms/epoch - 28ms/step\n",
            "Epoch 45/100\n",
            "1/1 - 0s - loss: 4.0556 - accuracy: 6.9013e-04 - 28ms/epoch - 28ms/step\n",
            "Epoch 46/100\n",
            "1/1 - 0s - loss: 4.0556 - accuracy: 6.9013e-04 - 31ms/epoch - 31ms/step\n",
            "Epoch 47/100\n",
            "1/1 - 0s - loss: 4.0556 - accuracy: 6.9013e-04 - 38ms/epoch - 38ms/step\n",
            "Epoch 48/100\n",
            "1/1 - 0s - loss: 4.0556 - accuracy: 6.9013e-04 - 44ms/epoch - 44ms/step\n",
            "Epoch 49/100\n",
            "1/1 - 0s - loss: 4.0556 - accuracy: 6.9013e-04 - 47ms/epoch - 47ms/step\n",
            "Epoch 50/100\n",
            "1/1 - 0s - loss: 4.0556 - accuracy: 6.9013e-04 - 44ms/epoch - 44ms/step\n",
            "Epoch 51/100\n",
            "1/1 - 0s - loss: 4.0556 - accuracy: 6.9013e-04 - 45ms/epoch - 45ms/step\n",
            "Epoch 52/100\n",
            "1/1 - 0s - loss: 4.0556 - accuracy: 6.9013e-04 - 48ms/epoch - 48ms/step\n",
            "Epoch 53/100\n",
            "1/1 - 0s - loss: 4.0556 - accuracy: 6.9013e-04 - 43ms/epoch - 43ms/step\n",
            "Epoch 54/100\n",
            "1/1 - 0s - loss: 4.0556 - accuracy: 6.9013e-04 - 45ms/epoch - 45ms/step\n",
            "Epoch 55/100\n",
            "1/1 - 0s - loss: 4.0556 - accuracy: 6.9013e-04 - 49ms/epoch - 49ms/step\n",
            "Epoch 56/100\n",
            "1/1 - 0s - loss: 4.0556 - accuracy: 6.9013e-04 - 47ms/epoch - 47ms/step\n",
            "Epoch 57/100\n",
            "1/1 - 0s - loss: 4.0556 - accuracy: 6.9013e-04 - 44ms/epoch - 44ms/step\n",
            "Epoch 58/100\n",
            "1/1 - 0s - loss: 4.0556 - accuracy: 6.9013e-04 - 42ms/epoch - 42ms/step\n",
            "Epoch 59/100\n",
            "1/1 - 0s - loss: 4.0556 - accuracy: 6.9013e-04 - 47ms/epoch - 47ms/step\n",
            "Epoch 60/100\n",
            "1/1 - 0s - loss: 4.0556 - accuracy: 6.9013e-04 - 43ms/epoch - 43ms/step\n",
            "Epoch 61/100\n",
            "1/1 - 0s - loss: 4.0556 - accuracy: 6.9013e-04 - 56ms/epoch - 56ms/step\n",
            "Epoch 62/100\n",
            "1/1 - 0s - loss: 4.0556 - accuracy: 6.9013e-04 - 45ms/epoch - 45ms/step\n",
            "Epoch 63/100\n",
            "1/1 - 0s - loss: 4.0556 - accuracy: 6.9013e-04 - 44ms/epoch - 44ms/step\n",
            "Epoch 64/100\n",
            "1/1 - 0s - loss: 4.0556 - accuracy: 6.9013e-04 - 44ms/epoch - 44ms/step\n",
            "Epoch 65/100\n",
            "1/1 - 0s - loss: 4.0556 - accuracy: 6.9013e-04 - 44ms/epoch - 44ms/step\n",
            "Epoch 66/100\n",
            "1/1 - 0s - loss: 4.0556 - accuracy: 6.9013e-04 - 43ms/epoch - 43ms/step\n",
            "Epoch 67/100\n",
            "1/1 - 0s - loss: 4.0556 - accuracy: 6.9013e-04 - 45ms/epoch - 45ms/step\n",
            "Epoch 68/100\n",
            "1/1 - 0s - loss: 4.0556 - accuracy: 6.9013e-04 - 43ms/epoch - 43ms/step\n",
            "Epoch 69/100\n",
            "1/1 - 0s - loss: 4.0556 - accuracy: 6.9013e-04 - 45ms/epoch - 45ms/step\n",
            "Epoch 70/100\n",
            "1/1 - 0s - loss: 4.0556 - accuracy: 6.9013e-04 - 45ms/epoch - 45ms/step\n",
            "Epoch 71/100\n",
            "1/1 - 0s - loss: 4.0556 - accuracy: 6.9013e-04 - 45ms/epoch - 45ms/step\n",
            "Epoch 72/100\n",
            "1/1 - 0s - loss: 4.0556 - accuracy: 6.9013e-04 - 41ms/epoch - 41ms/step\n",
            "Epoch 73/100\n",
            "1/1 - 0s - loss: 4.0556 - accuracy: 6.9013e-04 - 43ms/epoch - 43ms/step\n",
            "Epoch 74/100\n",
            "1/1 - 0s - loss: 4.0556 - accuracy: 6.9013e-04 - 53ms/epoch - 53ms/step\n",
            "Epoch 75/100\n",
            "1/1 - 0s - loss: 4.0556 - accuracy: 6.9013e-04 - 44ms/epoch - 44ms/step\n",
            "Epoch 76/100\n",
            "1/1 - 0s - loss: 4.0556 - accuracy: 6.9013e-04 - 43ms/epoch - 43ms/step\n",
            "Epoch 77/100\n",
            "1/1 - 0s - loss: 4.0556 - accuracy: 6.9013e-04 - 42ms/epoch - 42ms/step\n",
            "Epoch 78/100\n",
            "1/1 - 0s - loss: 4.0556 - accuracy: 6.9013e-04 - 45ms/epoch - 45ms/step\n",
            "Epoch 79/100\n",
            "1/1 - 0s - loss: 4.0556 - accuracy: 6.9013e-04 - 45ms/epoch - 45ms/step\n",
            "Epoch 80/100\n",
            "1/1 - 0s - loss: 4.0556 - accuracy: 6.9013e-04 - 46ms/epoch - 46ms/step\n",
            "Epoch 81/100\n",
            "1/1 - 0s - loss: 4.0556 - accuracy: 6.9013e-04 - 45ms/epoch - 45ms/step\n",
            "Epoch 82/100\n",
            "1/1 - 0s - loss: 4.0556 - accuracy: 6.9013e-04 - 49ms/epoch - 49ms/step\n",
            "Epoch 83/100\n",
            "1/1 - 0s - loss: 4.0556 - accuracy: 6.9013e-04 - 48ms/epoch - 48ms/step\n",
            "Epoch 84/100\n",
            "1/1 - 0s - loss: 4.0556 - accuracy: 6.9013e-04 - 39ms/epoch - 39ms/step\n",
            "Epoch 85/100\n",
            "1/1 - 0s - loss: 4.0556 - accuracy: 6.9013e-04 - 43ms/epoch - 43ms/step\n",
            "Epoch 86/100\n",
            "1/1 - 0s - loss: 4.0556 - accuracy: 6.9013e-04 - 42ms/epoch - 42ms/step\n",
            "Epoch 87/100\n",
            "1/1 - 0s - loss: 4.0556 - accuracy: 6.9013e-04 - 42ms/epoch - 42ms/step\n",
            "Epoch 88/100\n",
            "1/1 - 0s - loss: 4.0556 - accuracy: 6.9013e-04 - 48ms/epoch - 48ms/step\n",
            "Epoch 89/100\n",
            "1/1 - 0s - loss: 4.0556 - accuracy: 6.9013e-04 - 46ms/epoch - 46ms/step\n",
            "Epoch 90/100\n",
            "1/1 - 0s - loss: 4.0556 - accuracy: 6.9013e-04 - 42ms/epoch - 42ms/step\n",
            "Epoch 91/100\n",
            "1/1 - 0s - loss: 4.0556 - accuracy: 6.9013e-04 - 44ms/epoch - 44ms/step\n",
            "Epoch 92/100\n",
            "1/1 - 0s - loss: 4.0556 - accuracy: 6.9013e-04 - 45ms/epoch - 45ms/step\n",
            "Epoch 93/100\n",
            "1/1 - 0s - loss: 4.0556 - accuracy: 6.9013e-04 - 43ms/epoch - 43ms/step\n",
            "Epoch 94/100\n",
            "1/1 - 0s - loss: 4.0556 - accuracy: 6.9013e-04 - 30ms/epoch - 30ms/step\n",
            "Epoch 95/100\n",
            "1/1 - 0s - loss: 4.0556 - accuracy: 6.9013e-04 - 33ms/epoch - 33ms/step\n",
            "Epoch 96/100\n",
            "1/1 - 0s - loss: 4.0556 - accuracy: 6.9013e-04 - 28ms/epoch - 28ms/step\n",
            "Epoch 97/100\n",
            "1/1 - 0s - loss: 4.0556 - accuracy: 6.9013e-04 - 35ms/epoch - 35ms/step\n",
            "Epoch 98/100\n",
            "1/1 - 0s - loss: 4.0556 - accuracy: 6.9013e-04 - 32ms/epoch - 32ms/step\n",
            "Epoch 99/100\n",
            "1/1 - 0s - loss: 4.0556 - accuracy: 6.9013e-04 - 27ms/epoch - 27ms/step\n",
            "Epoch 100/100\n",
            "1/1 - 0s - loss: 4.0556 - accuracy: 6.9013e-04 - 28ms/epoch - 28ms/step\n"
          ]
        },
        {
          "output_type": "execute_result",
          "data": {
            "text/plain": [
              "<keras.callbacks.History at 0x7f2903d24280>"
            ]
          },
          "metadata": {},
          "execution_count": 159
        }
      ]
    },
    {
      "cell_type": "code",
      "source": [],
      "metadata": {
        "id": "wOCcWmY5BFO3"
      },
      "execution_count": null,
      "outputs": []
    }
  ]
}